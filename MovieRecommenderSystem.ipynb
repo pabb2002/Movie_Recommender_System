{
  "cells": [
    {
      "cell_type": "markdown",
      "metadata": {
        "id": "view-in-github",
        "colab_type": "text"
      },
      "source": [
        "<a href=\"https://colab.research.google.com/github/pabb2002/Movie_Recommender_System/blob/main/MovieRecommenderSystem.ipynb\" target=\"_parent\"><img src=\"https://colab.research.google.com/assets/colab-badge.svg\" alt=\"Open In Colab\"/></a>"
      ]
    },
    {
      "cell_type": "markdown",
      "metadata": {
        "id": "Cf3GloRNvOOG"
      },
      "source": [
        "# **Movie Recommender System**\n",
        "\n",
        "The following recommender systems will be built: \n",
        "- Knowledge/Rank based \n",
        "- Similarity-Based Collaborative filtering (User-User and Item-Item)\n",
        "- Matrix Factorization Based Collaborative Filtering"
      ]
    },
    {
      "cell_type": "code",
      "execution_count": null,
      "metadata": {
        "id": "FYrMMOH6sm8f",
        "colab": {
          "base_uri": "https://localhost:8080/"
        },
        "outputId": "68c97ea4-d97e-47e0-c0d1-06c5080baf85"
      },
      "outputs": [
        {
          "output_type": "stream",
          "name": "stdout",
          "text": [
            "Mounted at /content/drive\n"
          ]
        }
      ],
      "source": [
        "from google.colab import drive\n",
        "drive.mount('/content/drive')"
      ]
    },
    {
      "cell_type": "code",
      "execution_count": null,
      "metadata": {
        "id": "J1TItcxtwIAZ",
        "colab": {
          "base_uri": "https://localhost:8080/"
        },
        "outputId": "1565c36a-2198-4a49-ef9e-7916ca5a064e"
      },
      "outputs": [
        {
          "output_type": "stream",
          "name": "stdout",
          "text": [
            "Looking in indexes: https://pypi.org/simple, https://us-python.pkg.dev/colab-wheels/public/simple/\n",
            "Collecting surprise\n",
            "  Downloading surprise-0.1-py2.py3-none-any.whl (1.8 kB)\n",
            "Collecting scikit-surprise\n",
            "  Downloading scikit-surprise-1.1.1.tar.gz (11.8 MB)\n",
            "\u001b[K     |████████████████████████████████| 11.8 MB 10.4 MB/s \n",
            "\u001b[?25hRequirement already satisfied: joblib>=0.11 in /usr/local/lib/python3.7/dist-packages (from scikit-surprise->surprise) (1.1.0)\n",
            "Requirement already satisfied: numpy>=1.11.2 in /usr/local/lib/python3.7/dist-packages (from scikit-surprise->surprise) (1.21.6)\n",
            "Requirement already satisfied: scipy>=1.0.0 in /usr/local/lib/python3.7/dist-packages (from scikit-surprise->surprise) (1.7.3)\n",
            "Requirement already satisfied: six>=1.10.0 in /usr/local/lib/python3.7/dist-packages (from scikit-surprise->surprise) (1.15.0)\n",
            "Building wheels for collected packages: scikit-surprise\n",
            "  Building wheel for scikit-surprise (setup.py) ... \u001b[?25l\u001b[?25hdone\n",
            "  Created wheel for scikit-surprise: filename=scikit_surprise-1.1.1-cp37-cp37m-linux_x86_64.whl size=1633704 sha256=8ff53d2efaa7c0ef2f3a04e51a6cc699f24cfcf431cfa57d47d9cea4cd2f2cb5\n",
            "  Stored in directory: /root/.cache/pip/wheels/76/44/74/b498c42be47b2406bd27994e16c5188e337c657025ab400c1c\n",
            "Successfully built scikit-surprise\n",
            "Installing collected packages: scikit-surprise, surprise\n",
            "Successfully installed scikit-surprise-1.1.1 surprise-0.1\n"
          ]
        }
      ],
      "source": [
        "!pip install surprise"
      ]
    },
    {
      "cell_type": "code",
      "execution_count": null,
      "metadata": {
        "id": "Gem2ozi_vOOG"
      },
      "outputs": [],
      "source": [
        "import numpy as np                              \n",
        "import pandas as pd\n",
        "import matplotlib.pyplot as plt              \n",
        "import seaborn as sns                           \n",
        "\n",
        "import warnings                                 \n",
        "warnings.filterwarnings('ignore')\n",
        "from collections import defaultdict             \n",
        "\n",
        "# Splitting into training and test data\n",
        "from surprise.model_selection import train_test_split\n",
        "# Performance stats\n",
        "from surprise import accuracy\n",
        "# Class is used to parse rating data in the structure of user, item, rating\n",
        "from surprise.reader import Reader\n",
        "# Class for loading data\n",
        "from surprise.dataset import Dataset\n",
        "# Tuning hyperparameters\n",
        "from surprise.model_selection import GridSearchCV\n",
        "# Building similarity based recommender system\n",
        "from surprise.prediction_algorithms.knns import KNNBasic\n",
        "# Building matrix factorization based recommender system\n",
        "from surprise.prediction_algorithms.matrix_factorization import SVD\n",
        "# Cross validation\n",
        "from surprise.model_selection import KFold"
      ]
    },
    {
      "cell_type": "markdown",
      "metadata": {
        "id": "ewHMWerQ2N9T"
      },
      "source": [
        "## **Loading the Data**"
      ]
    },
    {
      "cell_type": "code",
      "execution_count": null,
      "metadata": {
        "id": "EdQIx3OLvOOG"
      },
      "outputs": [],
      "source": [
        "rating = pd.read_csv('/content/drive/MyDrive/Colab Notebooks/ratings.csv')"
      ]
    },
    {
      "cell_type": "code",
      "execution_count": null,
      "metadata": {
        "id": "8zF1K1hDvOOG",
        "colab": {
          "base_uri": "https://localhost:8080/"
        },
        "outputId": "1447f6f9-7286-485b-91f9-4ed301d00c30"
      },
      "outputs": [
        {
          "output_type": "stream",
          "name": "stdout",
          "text": [
            "<class 'pandas.core.frame.DataFrame'>\n",
            "RangeIndex: 100004 entries, 0 to 100003\n",
            "Data columns (total 4 columns):\n",
            " #   Column     Non-Null Count   Dtype  \n",
            "---  ------     --------------   -----  \n",
            " 0   userId     100004 non-null  int64  \n",
            " 1   movieId    100004 non-null  int64  \n",
            " 2   rating     100004 non-null  float64\n",
            " 3   timestamp  100004 non-null  int64  \n",
            "dtypes: float64(1), int64(3)\n",
            "memory usage: 3.1 MB\n"
          ]
        }
      ],
      "source": [
        "rating.info()"
      ]
    },
    {
      "cell_type": "code",
      "execution_count": null,
      "metadata": {
        "id": "fltadjTcvOOH"
      },
      "outputs": [],
      "source": [
        "rating = rating.drop(['timestamp'], axis=1)"
      ]
    },
    {
      "cell_type": "markdown",
      "metadata": {
        "id": "mHOFHmoBwIAw"
      },
      "source": [
        "## **Exploring the Data**\n"
      ]
    },
    {
      "cell_type": "code",
      "execution_count": null,
      "metadata": {
        "id": "1Q6gs-IO2N9i",
        "colab": {
          "base_uri": "https://localhost:8080/",
          "height": 206
        },
        "outputId": "d6793012-f186-4612-8818-7046c7536590"
      },
      "outputs": [
        {
          "output_type": "execute_result",
          "data": {
            "text/plain": [
              "   userId  movieId  rating\n",
              "0       1       31     2.5\n",
              "1       1     1029     3.0\n",
              "2       1     1061     3.0\n",
              "3       1     1129     2.0\n",
              "4       1     1172     4.0"
            ],
            "text/html": [
              "\n",
              "  <div id=\"df-9822600c-f7bb-4eaf-aad1-73cf6992a60b\">\n",
              "    <div class=\"colab-df-container\">\n",
              "      <div>\n",
              "<style scoped>\n",
              "    .dataframe tbody tr th:only-of-type {\n",
              "        vertical-align: middle;\n",
              "    }\n",
              "\n",
              "    .dataframe tbody tr th {\n",
              "        vertical-align: top;\n",
              "    }\n",
              "\n",
              "    .dataframe thead th {\n",
              "        text-align: right;\n",
              "    }\n",
              "</style>\n",
              "<table border=\"1\" class=\"dataframe\">\n",
              "  <thead>\n",
              "    <tr style=\"text-align: right;\">\n",
              "      <th></th>\n",
              "      <th>userId</th>\n",
              "      <th>movieId</th>\n",
              "      <th>rating</th>\n",
              "    </tr>\n",
              "  </thead>\n",
              "  <tbody>\n",
              "    <tr>\n",
              "      <th>0</th>\n",
              "      <td>1</td>\n",
              "      <td>31</td>\n",
              "      <td>2.5</td>\n",
              "    </tr>\n",
              "    <tr>\n",
              "      <th>1</th>\n",
              "      <td>1</td>\n",
              "      <td>1029</td>\n",
              "      <td>3.0</td>\n",
              "    </tr>\n",
              "    <tr>\n",
              "      <th>2</th>\n",
              "      <td>1</td>\n",
              "      <td>1061</td>\n",
              "      <td>3.0</td>\n",
              "    </tr>\n",
              "    <tr>\n",
              "      <th>3</th>\n",
              "      <td>1</td>\n",
              "      <td>1129</td>\n",
              "      <td>2.0</td>\n",
              "    </tr>\n",
              "    <tr>\n",
              "      <th>4</th>\n",
              "      <td>1</td>\n",
              "      <td>1172</td>\n",
              "      <td>4.0</td>\n",
              "    </tr>\n",
              "  </tbody>\n",
              "</table>\n",
              "</div>\n",
              "      <button class=\"colab-df-convert\" onclick=\"convertToInteractive('df-9822600c-f7bb-4eaf-aad1-73cf6992a60b')\"\n",
              "              title=\"Convert this dataframe to an interactive table.\"\n",
              "              style=\"display:none;\">\n",
              "        \n",
              "  <svg xmlns=\"http://www.w3.org/2000/svg\" height=\"24px\"viewBox=\"0 0 24 24\"\n",
              "       width=\"24px\">\n",
              "    <path d=\"M0 0h24v24H0V0z\" fill=\"none\"/>\n",
              "    <path d=\"M18.56 5.44l.94 2.06.94-2.06 2.06-.94-2.06-.94-.94-2.06-.94 2.06-2.06.94zm-11 1L8.5 8.5l.94-2.06 2.06-.94-2.06-.94L8.5 2.5l-.94 2.06-2.06.94zm10 10l.94 2.06.94-2.06 2.06-.94-2.06-.94-.94-2.06-.94 2.06-2.06.94z\"/><path d=\"M17.41 7.96l-1.37-1.37c-.4-.4-.92-.59-1.43-.59-.52 0-1.04.2-1.43.59L10.3 9.45l-7.72 7.72c-.78.78-.78 2.05 0 2.83L4 21.41c.39.39.9.59 1.41.59.51 0 1.02-.2 1.41-.59l7.78-7.78 2.81-2.81c.8-.78.8-2.07 0-2.86zM5.41 20L4 18.59l7.72-7.72 1.47 1.35L5.41 20z\"/>\n",
              "  </svg>\n",
              "      </button>\n",
              "      \n",
              "  <style>\n",
              "    .colab-df-container {\n",
              "      display:flex;\n",
              "      flex-wrap:wrap;\n",
              "      gap: 12px;\n",
              "    }\n",
              "\n",
              "    .colab-df-convert {\n",
              "      background-color: #E8F0FE;\n",
              "      border: none;\n",
              "      border-radius: 50%;\n",
              "      cursor: pointer;\n",
              "      display: none;\n",
              "      fill: #1967D2;\n",
              "      height: 32px;\n",
              "      padding: 0 0 0 0;\n",
              "      width: 32px;\n",
              "    }\n",
              "\n",
              "    .colab-df-convert:hover {\n",
              "      background-color: #E2EBFA;\n",
              "      box-shadow: 0px 1px 2px rgba(60, 64, 67, 0.3), 0px 1px 3px 1px rgba(60, 64, 67, 0.15);\n",
              "      fill: #174EA6;\n",
              "    }\n",
              "\n",
              "    [theme=dark] .colab-df-convert {\n",
              "      background-color: #3B4455;\n",
              "      fill: #D2E3FC;\n",
              "    }\n",
              "\n",
              "    [theme=dark] .colab-df-convert:hover {\n",
              "      background-color: #434B5C;\n",
              "      box-shadow: 0px 1px 3px 1px rgba(0, 0, 0, 0.15);\n",
              "      filter: drop-shadow(0px 1px 2px rgba(0, 0, 0, 0.3));\n",
              "      fill: #FFFFFF;\n",
              "    }\n",
              "  </style>\n",
              "\n",
              "      <script>\n",
              "        const buttonEl =\n",
              "          document.querySelector('#df-9822600c-f7bb-4eaf-aad1-73cf6992a60b button.colab-df-convert');\n",
              "        buttonEl.style.display =\n",
              "          google.colab.kernel.accessAllowed ? 'block' : 'none';\n",
              "\n",
              "        async function convertToInteractive(key) {\n",
              "          const element = document.querySelector('#df-9822600c-f7bb-4eaf-aad1-73cf6992a60b');\n",
              "          const dataTable =\n",
              "            await google.colab.kernel.invokeFunction('convertToInteractive',\n",
              "                                                     [key], {});\n",
              "          if (!dataTable) return;\n",
              "\n",
              "          const docLinkHtml = 'Like what you see? Visit the ' +\n",
              "            '<a target=\"_blank\" href=https://colab.research.google.com/notebooks/data_table.ipynb>data table notebook</a>'\n",
              "            + ' to learn more about interactive tables.';\n",
              "          element.innerHTML = '';\n",
              "          dataTable['output_type'] = 'display_data';\n",
              "          await google.colab.output.renderOutput(dataTable, element);\n",
              "          const docLink = document.createElement('div');\n",
              "          docLink.innerHTML = docLinkHtml;\n",
              "          element.appendChild(docLink);\n",
              "        }\n",
              "      </script>\n",
              "    </div>\n",
              "  </div>\n",
              "  "
            ]
          },
          "metadata": {},
          "execution_count": 7
        }
      ],
      "source": [
        "rating.head()"
      ]
    },
    {
      "cell_type": "code",
      "execution_count": null,
      "metadata": {
        "id": "lO-EYEl3wIA2",
        "colab": {
          "base_uri": "https://localhost:8080/",
          "height": 293
        },
        "outputId": "61689285-5fd4-4fe8-d0e4-a6cf6e5b50c2"
      },
      "outputs": [
        {
          "output_type": "display_data",
          "data": {
            "text/plain": [
              "<Figure size 864x288 with 1 Axes>"
            ],
            "image/png": "[encoded data removed]"
          },
          "metadata": {
            "needs_background": "light"
          }
        }
      ],
      "source": [
        "plt.figure(figsize = (12, 4))\n",
        "\n",
        "sns.countplot(rating['rating'])\n",
        "\n",
        "plt.tick_params(labelsize = 10)\n",
        "plt.title(\"Distribution of Ratings \", fontsize = 10)\n",
        "plt.xlabel(\"Ratings\", fontsize = 10)\n",
        "plt.ylabel(\"Number of Ratings\", fontsize = 10)\n",
        "plt.show()"
      ]
    },
    {
      "cell_type": "code",
      "execution_count": null,
      "metadata": {
        "id": "RMpbsZGGvOOH",
        "colab": {
          "base_uri": "https://localhost:8080/"
        },
        "outputId": "e95a0cac-0f86-4c22-a366-82b7197b2629"
      },
      "outputs": [
        {
          "output_type": "execute_result",
          "data": {
            "text/plain": [
              "671"
            ]
          },
          "metadata": {},
          "execution_count": 9
        }
      ],
      "source": [
        "rating['userId'].nunique()"
      ]
    },
    {
      "cell_type": "code",
      "execution_count": null,
      "metadata": {
        "id": "9A6Qmo_6vOOH",
        "colab": {
          "base_uri": "https://localhost:8080/"
        },
        "outputId": "284358b2-5922-4e3b-c11a-9352b222e9fc"
      },
      "outputs": [
        {
          "output_type": "execute_result",
          "data": {
            "text/plain": [
              "9066"
            ]
          },
          "metadata": {},
          "execution_count": 10
        }
      ],
      "source": [
        "rating['movieId'].nunique()"
      ]
    },
    {
      "cell_type": "markdown",
      "metadata": {
        "id": "mR9tzSzTvOOH"
      },
      "source": [
        "**User-Movie Interactions**"
      ]
    },
    {
      "cell_type": "code",
      "execution_count": null,
      "metadata": {
        "id": "xstEDCVfvOOH",
        "colab": {
          "base_uri": "https://localhost:8080/",
          "height": 455
        },
        "outputId": "2f08684f-2404-47d5-a15c-8e4dad3fbf6f"
      },
      "outputs": [
        {
          "output_type": "execute_result",
          "data": {
            "text/plain": [
              "                rating\n",
              "userId movieId        \n",
              "1      31            1\n",
              "       1029          1\n",
              "       1061          1\n",
              "       1129          1\n",
              "       1172          1\n",
              "...                ...\n",
              "671    6268          1\n",
              "       6269          1\n",
              "       6365          1\n",
              "       6385          1\n",
              "       6565          1\n",
              "\n",
              "[100004 rows x 1 columns]"
            ],
            "text/html": [
              "\n",
              "  <div id=\"df-155ae462-ddac-499e-a03e-5e1a398175ac\">\n",
              "    <div class=\"colab-df-container\">\n",
              "      <div>\n",
              "<style scoped>\n",
              "    .dataframe tbody tr th:only-of-type {\n",
              "        vertical-align: middle;\n",
              "    }\n",
              "\n",
              "    .dataframe tbody tr th {\n",
              "        vertical-align: top;\n",
              "    }\n",
              "\n",
              "    .dataframe thead th {\n",
              "        text-align: right;\n",
              "    }\n",
              "</style>\n",
              "<table border=\"1\" class=\"dataframe\">\n",
              "  <thead>\n",
              "    <tr style=\"text-align: right;\">\n",
              "      <th></th>\n",
              "      <th></th>\n",
              "      <th>rating</th>\n",
              "    </tr>\n",
              "    <tr>\n",
              "      <th>userId</th>\n",
              "      <th>movieId</th>\n",
              "      <th></th>\n",
              "    </tr>\n",
              "  </thead>\n",
              "  <tbody>\n",
              "    <tr>\n",
              "      <th rowspan=\"5\" valign=\"top\">1</th>\n",
              "      <th>31</th>\n",
              "      <td>1</td>\n",
              "    </tr>\n",
              "    <tr>\n",
              "      <th>1029</th>\n",
              "      <td>1</td>\n",
              "    </tr>\n",
              "    <tr>\n",
              "      <th>1061</th>\n",
              "      <td>1</td>\n",
              "    </tr>\n",
              "    <tr>\n",
              "      <th>1129</th>\n",
              "      <td>1</td>\n",
              "    </tr>\n",
              "    <tr>\n",
              "      <th>1172</th>\n",
              "      <td>1</td>\n",
              "    </tr>\n",
              "    <tr>\n",
              "      <th>...</th>\n",
              "      <th>...</th>\n",
              "      <td>...</td>\n",
              "    </tr>\n",
              "    <tr>\n",
              "      <th rowspan=\"5\" valign=\"top\">671</th>\n",
              "      <th>6268</th>\n",
              "      <td>1</td>\n",
              "    </tr>\n",
              "    <tr>\n",
              "      <th>6269</th>\n",
              "      <td>1</td>\n",
              "    </tr>\n",
              "    <tr>\n",
              "      <th>6365</th>\n",
              "      <td>1</td>\n",
              "    </tr>\n",
              "    <tr>\n",
              "      <th>6385</th>\n",
              "      <td>1</td>\n",
              "    </tr>\n",
              "    <tr>\n",
              "      <th>6565</th>\n",
              "      <td>1</td>\n",
              "    </tr>\n",
              "  </tbody>\n",
              "</table>\n",
              "<p>100004 rows × 1 columns</p>\n",
              "</div>\n",
              "      <button class=\"colab-df-convert\" onclick=\"convertToInteractive('df-155ae462-ddac-499e-a03e-5e1a398175ac')\"\n",
              "              title=\"Convert this dataframe to an interactive table.\"\n",
              "              style=\"display:none;\">\n",
              "        \n",
              "  <svg xmlns=\"http://www.w3.org/2000/svg\" height=\"24px\"viewBox=\"0 0 24 24\"\n",
              "       width=\"24px\">\n",
              "    <path d=\"M0 0h24v24H0V0z\" fill=\"none\"/>\n",
              "    <path d=\"M18.56 5.44l.94 2.06.94-2.06 2.06-.94-2.06-.94-.94-2.06-.94 2.06-2.06.94zm-11 1L8.5 8.5l.94-2.06 2.06-.94-2.06-.94L8.5 2.5l-.94 2.06-2.06.94zm10 10l.94 2.06.94-2.06 2.06-.94-2.06-.94-.94-2.06-.94 2.06-2.06.94z\"/><path d=\"M17.41 7.96l-1.37-1.37c-.4-.4-.92-.59-1.43-.59-.52 0-1.04.2-1.43.59L10.3 9.45l-7.72 7.72c-.78.78-.78 2.05 0 2.83L4 21.41c.39.39.9.59 1.41.59.51 0 1.02-.2 1.41-.59l7.78-7.78 2.81-2.81c.8-.78.8-2.07 0-2.86zM5.41 20L4 18.59l7.72-7.72 1.47 1.35L5.41 20z\"/>\n",
              "  </svg>\n",
              "      </button>\n",
              "      \n",
              "  <style>\n",
              "    .colab-df-container {\n",
              "      display:flex;\n",
              "      flex-wrap:wrap;\n",
              "      gap: 12px;\n",
              "    }\n",
              "\n",
              "    .colab-df-convert {\n",
              "      background-color: #E8F0FE;\n",
              "      border: none;\n",
              "      border-radius: 50%;\n",
              "      cursor: pointer;\n",
              "      display: none;\n",
              "      fill: #1967D2;\n",
              "      height: 32px;\n",
              "      padding: 0 0 0 0;\n",
              "      width: 32px;\n",
              "    }\n",
              "\n",
              "    .colab-df-convert:hover {\n",
              "      background-color: #E2EBFA;\n",
              "      box-shadow: 0px 1px 2px rgba(60, 64, 67, 0.3), 0px 1px 3px 1px rgba(60, 64, 67, 0.15);\n",
              "      fill: #174EA6;\n",
              "    }\n",
              "\n",
              "    [theme=dark] .colab-df-convert {\n",
              "      background-color: #3B4455;\n",
              "      fill: #D2E3FC;\n",
              "    }\n",
              "\n",
              "    [theme=dark] .colab-df-convert:hover {\n",
              "      background-color: #434B5C;\n",
              "      box-shadow: 0px 1px 3px 1px rgba(0, 0, 0, 0.15);\n",
              "      filter: drop-shadow(0px 1px 2px rgba(0, 0, 0, 0.3));\n",
              "      fill: #FFFFFF;\n",
              "    }\n",
              "  </style>\n",
              "\n",
              "      <script>\n",
              "        const buttonEl =\n",
              "          document.querySelector('#df-155ae462-ddac-499e-a03e-5e1a398175ac button.colab-df-convert');\n",
              "        buttonEl.style.display =\n",
              "          google.colab.kernel.accessAllowed ? 'block' : 'none';\n",
              "\n",
              "        async function convertToInteractive(key) {\n",
              "          const element = document.querySelector('#df-155ae462-ddac-499e-a03e-5e1a398175ac');\n",
              "          const dataTable =\n",
              "            await google.colab.kernel.invokeFunction('convertToInteractive',\n",
              "                                                     [key], {});\n",
              "          if (!dataTable) return;\n",
              "\n",
              "          const docLinkHtml = 'Like what you see? Visit the ' +\n",
              "            '<a target=\"_blank\" href=https://colab.research.google.com/notebooks/data_table.ipynb>data table notebook</a>'\n",
              "            + ' to learn more about interactive tables.';\n",
              "          element.innerHTML = '';\n",
              "          dataTable['output_type'] = 'display_data';\n",
              "          await google.colab.output.renderOutput(dataTable, element);\n",
              "          const docLink = document.createElement('div');\n",
              "          docLink.innerHTML = docLinkHtml;\n",
              "          element.appendChild(docLink);\n",
              "        }\n",
              "      </script>\n",
              "    </div>\n",
              "  </div>\n",
              "  "
            ]
          },
          "metadata": {},
          "execution_count": 11
        }
      ],
      "source": [
        "rating.groupby(['userId', 'movieId']).count()"
      ]
    },
    {
      "cell_type": "code",
      "execution_count": null,
      "metadata": {
        "id": "d1E2i5rZvOOI",
        "colab": {
          "base_uri": "https://localhost:8080/"
        },
        "outputId": "a4605234-bbd8-4830-aa03-ff650b2663f3"
      },
      "outputs": [
        {
          "output_type": "execute_result",
          "data": {
            "text/plain": [
              "100004"
            ]
          },
          "metadata": {},
          "execution_count": 12
        }
      ],
      "source": [
        "rating.groupby(['userId', 'movieId']).count()['rating'].sum()"
      ]
    },
    {
      "cell_type": "code",
      "source": [
        "ratingCount = rating.groupby(['userId', 'movieId']).count()['rating']\n",
        "ratingCount[ratingCount!=1]"
      ],
      "metadata": {
        "colab": {
          "base_uri": "https://localhost:8080/"
        },
        "id": "vlzNuCjcPqv_",
        "outputId": "ea378660-0c63-47a9-d302-0afd35469b1c"
      },
      "execution_count": null,
      "outputs": [
        {
          "output_type": "execute_result",
          "data": {
            "text/plain": [
              "Series([], Name: rating, dtype: int64)"
            ]
          },
          "metadata": {},
          "execution_count": 13
        }
      ]
    },
    {
      "cell_type": "markdown",
      "metadata": {
        "id": "ynCEs7q3vOOI"
      },
      "source": [
        "No movies were interacted with more than once by the same user."
      ]
    },
    {
      "cell_type": "markdown",
      "metadata": {
        "id": "JQgjqRnevOOI"
      },
      "source": [
        "**Most Interacted Movie**"
      ]
    },
    {
      "cell_type": "code",
      "execution_count": null,
      "metadata": {
        "id": "4LBbXdoDvOOI",
        "colab": {
          "base_uri": "https://localhost:8080/"
        },
        "outputId": "524b9c0e-b66b-4553-ce78-bc69965fded3"
      },
      "outputs": [
        {
          "output_type": "execute_result",
          "data": {
            "text/plain": [
              "356       341\n",
              "296       324\n",
              "318       311\n",
              "593       304\n",
              "260       291\n",
              "         ... \n",
              "98604       1\n",
              "103659      1\n",
              "104419      1\n",
              "115927      1\n",
              "6425        1\n",
              "Name: movieId, Length: 9066, dtype: int64"
            ]
          },
          "metadata": {},
          "execution_count": 14
        }
      ],
      "source": [
        "rating['movieId'].value_counts()"
      ]
    },
    {
      "cell_type": "code",
      "execution_count": null,
      "metadata": {
        "id": "fVkc1FK22N9r",
        "colab": {
          "base_uri": "https://localhost:8080/",
          "height": 448
        },
        "outputId": "9eefd2f1-d2df-446d-9d9e-228ecd80f081"
      },
      "outputs": [
        {
          "output_type": "display_data",
          "data": {
            "text/plain": [
              "<Figure size 504x504 with 1 Axes>"
            ],
            "image/png": "[encoded data removed]"
          },
          "metadata": {
            "needs_background": "light"
          }
        }
      ],
      "source": [
        "plt.figure(figsize=(7,7))\n",
        "rating[rating['movieId'] == 356]['rating'].value_counts().plot(kind='bar')\n",
        "plt.xlabel('Rating')\n",
        "plt.ylabel('Count')\n",
        "plt.show()"
      ]
    },
    {
      "cell_type": "markdown",
      "metadata": {
        "id": "0kXJ_iTEvOOI"
      },
      "source": [
        "**User with Most Interactions**"
      ]
    },
    {
      "cell_type": "code",
      "execution_count": null,
      "metadata": {
        "id": "t7ehlMLDvOOI",
        "colab": {
          "base_uri": "https://localhost:8080/"
        },
        "outputId": "5b5f93f2-02d9-481a-ff21-31b0709ebfab"
      },
      "outputs": [
        {
          "output_type": "execute_result",
          "data": {
            "text/plain": [
              "547    2391\n",
              "564    1868\n",
              "624    1735\n",
              "15     1700\n",
              "73     1610\n",
              "       ... \n",
              "296      20\n",
              "289      20\n",
              "249      20\n",
              "221      20\n",
              "1        20\n",
              "Name: userId, Length: 671, dtype: int64"
            ]
          },
          "metadata": {},
          "execution_count": 16
        }
      ],
      "source": [
        "rating['userId'].value_counts()"
      ]
    },
    {
      "cell_type": "markdown",
      "metadata": {
        "id": "lHReghdivOOI"
      },
      "source": [
        "**Distribution of User-Movie Interactions**"
      ]
    },
    {
      "cell_type": "code",
      "source": [
        "rating.groupby('userId').count()"
      ],
      "metadata": {
        "colab": {
          "base_uri": "https://localhost:8080/",
          "height": 455
        },
        "id": "PIQ7R009UG46",
        "outputId": "d7bc5594-0159-4c2d-8779-8481d42db09c"
      },
      "execution_count": null,
      "outputs": [
        {
          "output_type": "execute_result",
          "data": {
            "text/plain": [
              "        movieId  rating\n",
              "userId                 \n",
              "1            20      20\n",
              "2            76      76\n",
              "3            51      51\n",
              "4           204     204\n",
              "5           100     100\n",
              "...         ...     ...\n",
              "667          68      68\n",
              "668          20      20\n",
              "669          37      37\n",
              "670          31      31\n",
              "671         115     115\n",
              "\n",
              "[671 rows x 2 columns]"
            ],
            "text/html": [
              "\n",
              "  <div id=\"df-78ba1ff5-0fa8-4a95-8790-1997354282e4\">\n",
              "    <div class=\"colab-df-container\">\n",
              "      <div>\n",
              "<style scoped>\n",
              "    .dataframe tbody tr th:only-of-type {\n",
              "        vertical-align: middle;\n",
              "    }\n",
              "\n",
              "    .dataframe tbody tr th {\n",
              "        vertical-align: top;\n",
              "    }\n",
              "\n",
              "    .dataframe thead th {\n",
              "        text-align: right;\n",
              "    }\n",
              "</style>\n",
              "<table border=\"1\" class=\"dataframe\">\n",
              "  <thead>\n",
              "    <tr style=\"text-align: right;\">\n",
              "      <th></th>\n",
              "      <th>movieId</th>\n",
              "      <th>rating</th>\n",
              "    </tr>\n",
              "    <tr>\n",
              "      <th>userId</th>\n",
              "      <th></th>\n",
              "      <th></th>\n",
              "    </tr>\n",
              "  </thead>\n",
              "  <tbody>\n",
              "    <tr>\n",
              "      <th>1</th>\n",
              "      <td>20</td>\n",
              "      <td>20</td>\n",
              "    </tr>\n",
              "    <tr>\n",
              "      <th>2</th>\n",
              "      <td>76</td>\n",
              "      <td>76</td>\n",
              "    </tr>\n",
              "    <tr>\n",
              "      <th>3</th>\n",
              "      <td>51</td>\n",
              "      <td>51</td>\n",
              "    </tr>\n",
              "    <tr>\n",
              "      <th>4</th>\n",
              "      <td>204</td>\n",
              "      <td>204</td>\n",
              "    </tr>\n",
              "    <tr>\n",
              "      <th>5</th>\n",
              "      <td>100</td>\n",
              "      <td>100</td>\n",
              "    </tr>\n",
              "    <tr>\n",
              "      <th>...</th>\n",
              "      <td>...</td>\n",
              "      <td>...</td>\n",
              "    </tr>\n",
              "    <tr>\n",
              "      <th>667</th>\n",
              "      <td>68</td>\n",
              "      <td>68</td>\n",
              "    </tr>\n",
              "    <tr>\n",
              "      <th>668</th>\n",
              "      <td>20</td>\n",
              "      <td>20</td>\n",
              "    </tr>\n",
              "    <tr>\n",
              "      <th>669</th>\n",
              "      <td>37</td>\n",
              "      <td>37</td>\n",
              "    </tr>\n",
              "    <tr>\n",
              "      <th>670</th>\n",
              "      <td>31</td>\n",
              "      <td>31</td>\n",
              "    </tr>\n",
              "    <tr>\n",
              "      <th>671</th>\n",
              "      <td>115</td>\n",
              "      <td>115</td>\n",
              "    </tr>\n",
              "  </tbody>\n",
              "</table>\n",
              "<p>671 rows × 2 columns</p>\n",
              "</div>\n",
              "      <button class=\"colab-df-convert\" onclick=\"convertToInteractive('df-78ba1ff5-0fa8-4a95-8790-1997354282e4')\"\n",
              "              title=\"Convert this dataframe to an interactive table.\"\n",
              "              style=\"display:none;\">\n",
              "        \n",
              "  <svg xmlns=\"http://www.w3.org/2000/svg\" height=\"24px\"viewBox=\"0 0 24 24\"\n",
              "       width=\"24px\">\n",
              "    <path d=\"M0 0h24v24H0V0z\" fill=\"none\"/>\n",
              "    <path d=\"M18.56 5.44l.94 2.06.94-2.06 2.06-.94-2.06-.94-.94-2.06-.94 2.06-2.06.94zm-11 1L8.5 8.5l.94-2.06 2.06-.94-2.06-.94L8.5 2.5l-.94 2.06-2.06.94zm10 10l.94 2.06.94-2.06 2.06-.94-2.06-.94-.94-2.06-.94 2.06-2.06.94z\"/><path d=\"M17.41 7.96l-1.37-1.37c-.4-.4-.92-.59-1.43-.59-.52 0-1.04.2-1.43.59L10.3 9.45l-7.72 7.72c-.78.78-.78 2.05 0 2.83L4 21.41c.39.39.9.59 1.41.59.51 0 1.02-.2 1.41-.59l7.78-7.78 2.81-2.81c.8-.78.8-2.07 0-2.86zM5.41 20L4 18.59l7.72-7.72 1.47 1.35L5.41 20z\"/>\n",
              "  </svg>\n",
              "      </button>\n",
              "      \n",
              "  <style>\n",
              "    .colab-df-container {\n",
              "      display:flex;\n",
              "      flex-wrap:wrap;\n",
              "      gap: 12px;\n",
              "    }\n",
              "\n",
              "    .colab-df-convert {\n",
              "      background-color: #E8F0FE;\n",
              "      border: none;\n",
              "      border-radius: 50%;\n",
              "      cursor: pointer;\n",
              "      display: none;\n",
              "      fill: #1967D2;\n",
              "      height: 32px;\n",
              "      padding: 0 0 0 0;\n",
              "      width: 32px;\n",
              "    }\n",
              "\n",
              "    .colab-df-convert:hover {\n",
              "      background-color: #E2EBFA;\n",
              "      box-shadow: 0px 1px 2px rgba(60, 64, 67, 0.3), 0px 1px 3px 1px rgba(60, 64, 67, 0.15);\n",
              "      fill: #174EA6;\n",
              "    }\n",
              "\n",
              "    [theme=dark] .colab-df-convert {\n",
              "      background-color: #3B4455;\n",
              "      fill: #D2E3FC;\n",
              "    }\n",
              "\n",
              "    [theme=dark] .colab-df-convert:hover {\n",
              "      background-color: #434B5C;\n",
              "      box-shadow: 0px 1px 3px 1px rgba(0, 0, 0, 0.15);\n",
              "      filter: drop-shadow(0px 1px 2px rgba(0, 0, 0, 0.3));\n",
              "      fill: #FFFFFF;\n",
              "    }\n",
              "  </style>\n",
              "\n",
              "      <script>\n",
              "        const buttonEl =\n",
              "          document.querySelector('#df-78ba1ff5-0fa8-4a95-8790-1997354282e4 button.colab-df-convert');\n",
              "        buttonEl.style.display =\n",
              "          google.colab.kernel.accessAllowed ? 'block' : 'none';\n",
              "\n",
              "        async function convertToInteractive(key) {\n",
              "          const element = document.querySelector('#df-78ba1ff5-0fa8-4a95-8790-1997354282e4');\n",
              "          const dataTable =\n",
              "            await google.colab.kernel.invokeFunction('convertToInteractive',\n",
              "                                                     [key], {});\n",
              "          if (!dataTable) return;\n",
              "\n",
              "          const docLinkHtml = 'Like what you see? Visit the ' +\n",
              "            '<a target=\"_blank\" href=https://colab.research.google.com/notebooks/data_table.ipynb>data table notebook</a>'\n",
              "            + ' to learn more about interactive tables.';\n",
              "          element.innerHTML = '';\n",
              "          dataTable['output_type'] = 'display_data';\n",
              "          await google.colab.output.renderOutput(dataTable, element);\n",
              "          const docLink = document.createElement('div');\n",
              "          docLink.innerHTML = docLinkHtml;\n",
              "          element.appendChild(docLink);\n",
              "        }\n",
              "      </script>\n",
              "    </div>\n",
              "  </div>\n",
              "  "
            ]
          },
          "metadata": {},
          "execution_count": 17
        }
      ]
    },
    {
      "cell_type": "code",
      "execution_count": null,
      "metadata": {
        "id": "0XArWJ7l2N9v",
        "colab": {
          "base_uri": "https://localhost:8080/"
        },
        "outputId": "476ecf13-77ce-47cf-d131-4ee809440cb3"
      },
      "outputs": [
        {
          "output_type": "execute_result",
          "data": {
            "text/plain": [
              "userId\n",
              "1       20\n",
              "2       76\n",
              "3       51\n",
              "4      204\n",
              "5      100\n",
              "      ... \n",
              "667     68\n",
              "668     20\n",
              "669     37\n",
              "670     31\n",
              "671    115\n",
              "Name: movieId, Length: 671, dtype: int64"
            ]
          },
          "metadata": {},
          "execution_count": 18
        }
      ],
      "source": [
        "count_interactions = rating.groupby('userId').count()['movieId']\n",
        "count_interactions"
      ]
    },
    {
      "cell_type": "code",
      "execution_count": null,
      "metadata": {
        "id": "JoNCRm88vOOI",
        "colab": {
          "base_uri": "https://localhost:8080/",
          "height": 445
        },
        "outputId": "0cbd7d7c-37e3-4a8a-c5b2-7c7635cf9e45"
      },
      "outputs": [
        {
          "output_type": "display_data",
          "data": {
            "text/plain": [
              "<Figure size 1080x504 with 1 Axes>"
            ],
            "image/png": "[encoded data removed]"
          },
          "metadata": {
            "needs_background": "light"
          }
        }
      ],
      "source": [
        "plt.figure(figsize=(15,7))\n",
        "sns.histplot(count_interactions)\n",
        "plt.xlabel('Number of Interactions by Users')\n",
        "plt.show()"
      ]
    },
    {
      "cell_type": "markdown",
      "metadata": {
        "id": "vmj5nPiN2N9w"
      },
      "source": [
        "Heavily skewed to the right (very few movies with a large number of ratings)"
      ]
    },
    {
      "cell_type": "markdown",
      "metadata": {
        "id": "knK9ML0bwIBR"
      },
      "source": [
        "## **Rank-Based Recommender System**"
      ]
    },
    {
      "cell_type": "code",
      "execution_count": null,
      "metadata": {
        "id": "xuMR3XFIvOOK"
      },
      "outputs": [],
      "source": [
        "# averages and counts\n",
        "avg = rating.groupby('movieId').mean()['rating']\n",
        "count = rating.groupby('movieId').count()['rating']\n",
        "\n",
        "# New data frame with rating averages and counts per movie\n",
        "ratings = pd.DataFrame({'average_rating':avg, 'count':count})"
      ]
    },
    {
      "cell_type": "code",
      "execution_count": null,
      "metadata": {
        "id": "J6NLX6FIvOOK",
        "colab": {
          "base_uri": "https://localhost:8080/",
          "height": 237
        },
        "outputId": "efd423dc-e0cd-4e81-a548-6bebedbf20e5"
      },
      "outputs": [
        {
          "output_type": "execute_result",
          "data": {
            "text/plain": [
              "         average_rating  count\n",
              "movieId                       \n",
              "1              3.872470    247\n",
              "2              3.401869    107\n",
              "3              3.161017     59\n",
              "4              2.384615     13\n",
              "5              3.267857     56"
            ],
            "text/html": [
              "\n",
              "  <div id=\"df-725e64f6-b784-4d7d-9ff5-0f74ecba4805\">\n",
              "    <div class=\"colab-df-container\">\n",
              "      <div>\n",
              "<style scoped>\n",
              "    .dataframe tbody tr th:only-of-type {\n",
              "        vertical-align: middle;\n",
              "    }\n",
              "\n",
              "    .dataframe tbody tr th {\n",
              "        vertical-align: top;\n",
              "    }\n",
              "\n",
              "    .dataframe thead th {\n",
              "        text-align: right;\n",
              "    }\n",
              "</style>\n",
              "<table border=\"1\" class=\"dataframe\">\n",
              "  <thead>\n",
              "    <tr style=\"text-align: right;\">\n",
              "      <th></th>\n",
              "      <th>average_rating</th>\n",
              "      <th>count</th>\n",
              "    </tr>\n",
              "    <tr>\n",
              "      <th>movieId</th>\n",
              "      <th></th>\n",
              "      <th></th>\n",
              "    </tr>\n",
              "  </thead>\n",
              "  <tbody>\n",
              "    <tr>\n",
              "      <th>1</th>\n",
              "      <td>3.872470</td>\n",
              "      <td>247</td>\n",
              "    </tr>\n",
              "    <tr>\n",
              "      <th>2</th>\n",
              "      <td>3.401869</td>\n",
              "      <td>107</td>\n",
              "    </tr>\n",
              "    <tr>\n",
              "      <th>3</th>\n",
              "      <td>3.161017</td>\n",
              "      <td>59</td>\n",
              "    </tr>\n",
              "    <tr>\n",
              "      <th>4</th>\n",
              "      <td>2.384615</td>\n",
              "      <td>13</td>\n",
              "    </tr>\n",
              "    <tr>\n",
              "      <th>5</th>\n",
              "      <td>3.267857</td>\n",
              "      <td>56</td>\n",
              "    </tr>\n",
              "  </tbody>\n",
              "</table>\n",
              "</div>\n",
              "      <button class=\"colab-df-convert\" onclick=\"convertToInteractive('df-725e64f6-b784-4d7d-9ff5-0f74ecba4805')\"\n",
              "              title=\"Convert this dataframe to an interactive table.\"\n",
              "              style=\"display:none;\">\n",
              "        \n",
              "  <svg xmlns=\"http://www.w3.org/2000/svg\" height=\"24px\"viewBox=\"0 0 24 24\"\n",
              "       width=\"24px\">\n",
              "    <path d=\"M0 0h24v24H0V0z\" fill=\"none\"/>\n",
              "    <path d=\"M18.56 5.44l.94 2.06.94-2.06 2.06-.94-2.06-.94-.94-2.06-.94 2.06-2.06.94zm-11 1L8.5 8.5l.94-2.06 2.06-.94-2.06-.94L8.5 2.5l-.94 2.06-2.06.94zm10 10l.94 2.06.94-2.06 2.06-.94-2.06-.94-.94-2.06-.94 2.06-2.06.94z\"/><path d=\"M17.41 7.96l-1.37-1.37c-.4-.4-.92-.59-1.43-.59-.52 0-1.04.2-1.43.59L10.3 9.45l-7.72 7.72c-.78.78-.78 2.05 0 2.83L4 21.41c.39.39.9.59 1.41.59.51 0 1.02-.2 1.41-.59l7.78-7.78 2.81-2.81c.8-.78.8-2.07 0-2.86zM5.41 20L4 18.59l7.72-7.72 1.47 1.35L5.41 20z\"/>\n",
              "  </svg>\n",
              "      </button>\n",
              "      \n",
              "  <style>\n",
              "    .colab-df-container {\n",
              "      display:flex;\n",
              "      flex-wrap:wrap;\n",
              "      gap: 12px;\n",
              "    }\n",
              "\n",
              "    .colab-df-convert {\n",
              "      background-color: #E8F0FE;\n",
              "      border: none;\n",
              "      border-radius: 50%;\n",
              "      cursor: pointer;\n",
              "      display: none;\n",
              "      fill: #1967D2;\n",
              "      height: 32px;\n",
              "      padding: 0 0 0 0;\n",
              "      width: 32px;\n",
              "    }\n",
              "\n",
              "    .colab-df-convert:hover {\n",
              "      background-color: #E2EBFA;\n",
              "      box-shadow: 0px 1px 2px rgba(60, 64, 67, 0.3), 0px 1px 3px 1px rgba(60, 64, 67, 0.15);\n",
              "      fill: #174EA6;\n",
              "    }\n",
              "\n",
              "    [theme=dark] .colab-df-convert {\n",
              "      background-color: #3B4455;\n",
              "      fill: #D2E3FC;\n",
              "    }\n",
              "\n",
              "    [theme=dark] .colab-df-convert:hover {\n",
              "      background-color: #434B5C;\n",
              "      box-shadow: 0px 1px 3px 1px rgba(0, 0, 0, 0.15);\n",
              "      filter: drop-shadow(0px 1px 2px rgba(0, 0, 0, 0.3));\n",
              "      fill: #FFFFFF;\n",
              "    }\n",
              "  </style>\n",
              "\n",
              "      <script>\n",
              "        const buttonEl =\n",
              "          document.querySelector('#df-725e64f6-b784-4d7d-9ff5-0f74ecba4805 button.colab-df-convert');\n",
              "        buttonEl.style.display =\n",
              "          google.colab.kernel.accessAllowed ? 'block' : 'none';\n",
              "\n",
              "        async function convertToInteractive(key) {\n",
              "          const element = document.querySelector('#df-725e64f6-b784-4d7d-9ff5-0f74ecba4805');\n",
              "          const dataTable =\n",
              "            await google.colab.kernel.invokeFunction('convertToInteractive',\n",
              "                                                     [key], {});\n",
              "          if (!dataTable) return;\n",
              "\n",
              "          const docLinkHtml = 'Like what you see? Visit the ' +\n",
              "            '<a target=\"_blank\" href=https://colab.research.google.com/notebooks/data_table.ipynb>data table notebook</a>'\n",
              "            + ' to learn more about interactive tables.';\n",
              "          element.innerHTML = '';\n",
              "          dataTable['output_type'] = 'display_data';\n",
              "          await google.colab.output.renderOutput(dataTable, element);\n",
              "          const docLink = document.createElement('div');\n",
              "          docLink.innerHTML = docLinkHtml;\n",
              "          element.appendChild(docLink);\n",
              "        }\n",
              "      </script>\n",
              "    </div>\n",
              "  </div>\n",
              "  "
            ]
          },
          "metadata": {},
          "execution_count": 21
        }
      ],
      "source": [
        "ratings.head()"
      ]
    },
    {
      "cell_type": "code",
      "execution_count": null,
      "metadata": {
        "id": "Fy0SbxnevOOK"
      },
      "outputs": [],
      "source": [
        "def topMovies(data, n, min_interaction=100):\n",
        "    #n is number of movies to recommend\n",
        "    #min_interaction is the minimum number of interactions for a movie to be recommended\n",
        "\n",
        "    recommended_movies = data[data['count'] > min_interaction]\n",
        "\n",
        "    #.sort_values - sorts by avg rating\n",
        "    recommended_movies = recommended_movies.sort_values(by='average_rating', ascending=False)\n",
        "    return recommended_movies.index[:n]"
      ]
    },
    {
      "cell_type": "code",
      "source": [
        "n_input = int(input(\"Enter a number n for the top n movies to recommend: \"))\n",
        "min_interaction_input = int(input(\"Enter a number for the minimum number of interactions: \"))\n",
        "\n",
        "n_recommended_movies = list(topMovies(ratings, n_input, min_interaction=min_interaction_input))\n",
        "print(\"\\nRecommended movies: \"+ str(n_recommended_movies))"
      ],
      "metadata": {
        "colab": {
          "base_uri": "https://localhost:8080/"
        },
        "id": "Bt_DXfI7CajU",
        "outputId": "324787c0-7d17-427f-821a-c7b99dfb3bf9"
      },
      "execution_count": null,
      "outputs": [
        {
          "output_type": "stream",
          "name": "stdout",
          "text": [
            "Enter a number n for the top n movies to recommend: 5\n",
            "Enter a number for the minimum number of interactions: 6\n",
            "\n",
            "Recommended movies: [98491, 1939, 3469, 86377, 858]\n"
          ]
        }
      ]
    },
    {
      "cell_type": "markdown",
      "metadata": {
        "id": "sJI5kiiGvOOK"
      },
      "source": [
        "## **User-Based Collaborative Filtering Recommender System**"
      ]
    },
    {
      "cell_type": "markdown",
      "metadata": {
        "id": "skzc0N1_nVNB"
      },
      "source": [
        "### **Building a baseline user-user similarity based recommendation system**"
      ]
    },
    {
      "cell_type": "markdown",
      "source": [
        "**Transforming the dataset into surprise dataset and splitting it into train and test set**"
      ],
      "metadata": {
        "id": "n3PpFZlW0q_d"
      }
    },
    {
      "cell_type": "code",
      "execution_count": null,
      "metadata": {
        "id": "rGfYDiOCpe4X"
      },
      "outputs": [],
      "source": [
        "# Instantiating Reader class as reader object, with scale 0 to 5 for ratings\n",
        "reader = Reader(rating_scale=(0, 5))\n",
        "# Using Dataset to load data\n",
        "data = Dataset.load_from_df(rating[['userId', 'movieId', 'rating']], reader)\n",
        "\n",
        "# Splitting into train and test \n",
        "training_data, test_data = train_test_split(data, test_size=0.2, random_state=42)"
      ]
    },
    {
      "cell_type": "markdown",
      "metadata": {
        "id": "DmHTEt7TnVNC"
      },
      "source": [
        "**Baseline similarity based recommendation system using cosine similarity and KNN**"
      ]
    },
    {
      "cell_type": "code",
      "execution_count": null,
      "metadata": {
        "id": "vO3FL7iape8A",
        "colab": {
          "base_uri": "https://localhost:8080/"
        },
        "outputId": "68d6a429-e2f9-41c7-85e4-eec315724cf4"
      },
      "outputs": [
        {
          "output_type": "stream",
          "name": "stdout",
          "text": [
            "RMSE: 0.9925\n"
          ]
        },
        {
          "output_type": "execute_result",
          "data": {
            "text/plain": [
              "0.9924509041520163"
            ]
          },
          "metadata": {},
          "execution_count": 25
        }
      ],
      "source": [
        "# options - cosine similarity and user-based\n",
        "sim_options = {'name':'cosine','user_based':True}\n",
        "#kNN Basic algorithm with above options\n",
        "user_algorithm = KNNBasic(sim_options=sim_options, verbose=False)\n",
        "\n",
        "# Training the algorithm\n",
        "user_algorithm.fit(training_data)\n",
        "# Predicting on test data\n",
        "predicted_ratings = user_algorithm.test(test_data)\n",
        "# RMSE\n",
        "accuracy.rmse(predicted_ratings)"
      ]
    },
    {
      "cell_type": "markdown",
      "metadata": {
        "id": "qelE7GyrwIBs"
      },
      "source": [
        "### **Predicting rating using baseline user-based recommender system, given a user and movie**"
      ]
    },
    {
      "cell_type": "code",
      "source": [
        "userId_input = int(input(\"Enter a user Id: \"))\n",
        "movieId_input = int(input(\"Enter a movie Id: \"))\n",
        "\n",
        "predicted_rating_output = user_algorithm.predict(userId_input, movieId_input, r_ui=4, verbose=True)\n",
        "print(\"\\nPredicted rating: \"+\"{:.2f}\".format(predicted_rating_output.est))"
      ],
      "metadata": {
        "colab": {
          "base_uri": "https://localhost:8080/"
        },
        "id": "NsDiU_Br7WYD",
        "outputId": "2bdb2cf2-78dd-455b-ff85-5c4df3147588"
      },
      "execution_count": null,
      "outputs": [
        {
          "output_type": "stream",
          "name": "stdout",
          "text": [
            "Enter a user Id: 8\n",
            "Enter a movie Id: 4\n",
            "user: 8          item: 4          r_ui = 4.00   est = 2.41   {'actual_k': 11, 'was_impossible': False}\n",
            "\n",
            "Predicted rating: 2.41\n"
          ]
        }
      ]
    },
    {
      "cell_type": "markdown",
      "metadata": {
        "id": "lTLnYn_JwIBx"
      },
      "source": [
        "### **Hyperparameter tuning for the baseline user based collaborative filtering recommendation system**"
      ]
    },
    {
      "cell_type": "code",
      "source": [
        "possible_parameters = {'k': [20, 30, 40], 'min_k': [3, 6, 9],\n",
        "              'sim_options': {'name': ['msd', 'cosine'],\n",
        "                              'user_based': [True]}}"
      ],
      "metadata": {
        "id": "WsBIk5zBIbOA"
      },
      "execution_count": null,
      "outputs": []
    },
    {
      "cell_type": "code",
      "execution_count": null,
      "metadata": {
        "id": "KpGhU15gpfHg"
      },
      "outputs": [],
      "source": [
        "# grid search cross validation with 3 folds\n",
        "grid = GridSearchCV(KNNBasic, possible_parameters, measures=['rmse', 'mae'], cv=3, n_jobs=-1)\n",
        "\n",
        "# Fitting the data\n",
        "grid.fit(data)"
      ]
    },
    {
      "cell_type": "code",
      "execution_count": null,
      "metadata": {
        "id": "TzJxk_Z4q1A8",
        "colab": {
          "base_uri": "https://localhost:8080/",
          "height": 530
        },
        "outputId": "d3b79150-7cc4-4fc3-bcaa-dcaf55426cbc"
      },
      "outputs": [
        {
          "output_type": "execute_result",
          "data": {
            "text/plain": [
              "   split0_test_rmse  split1_test_rmse  split2_test_rmse  mean_test_rmse  \\\n",
              "0          0.955544          0.969120          0.969968        0.964877   \n",
              "1          0.983891          0.998639          0.997992        0.993507   \n",
              "2          0.956897          0.973031          0.976337        0.968755   \n",
              "3          0.983943          1.001015          1.002882        0.995947   \n",
              "4          0.963575          0.977209          0.982595        0.974460   \n",
              "\n",
              "   std_test_rmse  rank_test_rmse  split0_test_mae  split1_test_mae  \\\n",
              "0       0.006609               1         0.736583         0.743241   \n",
              "1       0.006805              13         0.762305         0.769945   \n",
              "2       0.008493               3         0.737556         0.746872   \n",
              "3       0.008522              15         0.762069         0.772361   \n",
              "4       0.008004               7         0.742892         0.750714   \n",
              "\n",
              "   split2_test_mae  mean_test_mae  std_test_mae  rank_test_mae  mean_fit_time  \\\n",
              "0         0.745803       0.741876      0.003886              1       0.167440   \n",
              "1         0.772308       0.768186      0.004269             12       0.686871   \n",
              "2         0.750490       0.744972      0.005448              3       0.182506   \n",
              "3         0.775914       0.770115      0.005871             15       0.775139   \n",
              "4         0.755196       0.749601      0.005084              6       0.211207   \n",
              "\n",
              "   std_fit_time  mean_test_time  std_test_time  \\\n",
              "0      0.041262        3.138934       0.186699   \n",
              "1      0.148413        3.295323       0.074327   \n",
              "2      0.013712        3.676913       0.349719   \n",
              "3      0.071557        3.170639       0.007371   \n",
              "4      0.031689        3.151500       0.125638   \n",
              "\n",
              "                                              params  param_k  param_min_k  \\\n",
              "0  {'k': 20, 'min_k': 3, 'sim_options': {'name': ...       20            3   \n",
              "1  {'k': 20, 'min_k': 3, 'sim_options': {'name': ...       20            3   \n",
              "2  {'k': 20, 'min_k': 6, 'sim_options': {'name': ...       20            6   \n",
              "3  {'k': 20, 'min_k': 6, 'sim_options': {'name': ...       20            6   \n",
              "4  {'k': 20, 'min_k': 9, 'sim_options': {'name': ...       20            9   \n",
              "\n",
              "                        param_sim_options  \n",
              "0     {'name': 'msd', 'user_based': True}  \n",
              "1  {'name': 'cosine', 'user_based': True}  \n",
              "2     {'name': 'msd', 'user_based': True}  \n",
              "3  {'name': 'cosine', 'user_based': True}  \n",
              "4     {'name': 'msd', 'user_based': True}  "
            ],
            "text/html": [
              "\n",
              "  <div id=\"df-84e839b3-fa07-4e64-a774-3668233d6edc\">\n",
              "    <div class=\"colab-df-container\">\n",
              "      <div>\n",
              "<style scoped>\n",
              "    .dataframe tbody tr th:only-of-type {\n",
              "        vertical-align: middle;\n",
              "    }\n",
              "\n",
              "    .dataframe tbody tr th {\n",
              "        vertical-align: top;\n",
              "    }\n",
              "\n",
              "    .dataframe thead th {\n",
              "        text-align: right;\n",
              "    }\n",
              "</style>\n",
              "<table border=\"1\" class=\"dataframe\">\n",
              "  <thead>\n",
              "    <tr style=\"text-align: right;\">\n",
              "      <th></th>\n",
              "      <th>split0_test_rmse</th>\n",
              "      <th>split1_test_rmse</th>\n",
              "      <th>split2_test_rmse</th>\n",
              "      <th>mean_test_rmse</th>\n",
              "      <th>std_test_rmse</th>\n",
              "      <th>rank_test_rmse</th>\n",
              "      <th>split0_test_mae</th>\n",
              "      <th>split1_test_mae</th>\n",
              "      <th>split2_test_mae</th>\n",
              "      <th>mean_test_mae</th>\n",
              "      <th>std_test_mae</th>\n",
              "      <th>rank_test_mae</th>\n",
              "      <th>mean_fit_time</th>\n",
              "      <th>std_fit_time</th>\n",
              "      <th>mean_test_time</th>\n",
              "      <th>std_test_time</th>\n",
              "      <th>params</th>\n",
              "      <th>param_k</th>\n",
              "      <th>param_min_k</th>\n",
              "      <th>param_sim_options</th>\n",
              "    </tr>\n",
              "  </thead>\n",
              "  <tbody>\n",
              "    <tr>\n",
              "      <th>0</th>\n",
              "      <td>0.955544</td>\n",
              "      <td>0.969120</td>\n",
              "      <td>0.969968</td>\n",
              "      <td>0.964877</td>\n",
              "      <td>0.006609</td>\n",
              "      <td>1</td>\n",
              "      <td>0.736583</td>\n",
              "      <td>0.743241</td>\n",
              "      <td>0.745803</td>\n",
              "      <td>0.741876</td>\n",
              "      <td>0.003886</td>\n",
              "      <td>1</td>\n",
              "      <td>0.167440</td>\n",
              "      <td>0.041262</td>\n",
              "      <td>3.138934</td>\n",
              "      <td>0.186699</td>\n",
              "      <td>{'k': 20, 'min_k': 3, 'sim_options': {'name': ...</td>\n",
              "      <td>20</td>\n",
              "      <td>3</td>\n",
              "      <td>{'name': 'msd', 'user_based': True}</td>\n",
              "    </tr>\n",
              "    <tr>\n",
              "      <th>1</th>\n",
              "      <td>0.983891</td>\n",
              "      <td>0.998639</td>\n",
              "      <td>0.997992</td>\n",
              "      <td>0.993507</td>\n",
              "      <td>0.006805</td>\n",
              "      <td>13</td>\n",
              "      <td>0.762305</td>\n",
              "      <td>0.769945</td>\n",
              "      <td>0.772308</td>\n",
              "      <td>0.768186</td>\n",
              "      <td>0.004269</td>\n",
              "      <td>12</td>\n",
              "      <td>0.686871</td>\n",
              "      <td>0.148413</td>\n",
              "      <td>3.295323</td>\n",
              "      <td>0.074327</td>\n",
              "      <td>{'k': 20, 'min_k': 3, 'sim_options': {'name': ...</td>\n",
              "      <td>20</td>\n",
              "      <td>3</td>\n",
              "      <td>{'name': 'cosine', 'user_based': True}</td>\n",
              "    </tr>\n",
              "    <tr>\n",
              "      <th>2</th>\n",
              "      <td>0.956897</td>\n",
              "      <td>0.973031</td>\n",
              "      <td>0.976337</td>\n",
              "      <td>0.968755</td>\n",
              "      <td>0.008493</td>\n",
              "      <td>3</td>\n",
              "      <td>0.737556</td>\n",
              "      <td>0.746872</td>\n",
              "      <td>0.750490</td>\n",
              "      <td>0.744972</td>\n",
              "      <td>0.005448</td>\n",
              "      <td>3</td>\n",
              "      <td>0.182506</td>\n",
              "      <td>0.013712</td>\n",
              "      <td>3.676913</td>\n",
              "      <td>0.349719</td>\n",
              "      <td>{'k': 20, 'min_k': 6, 'sim_options': {'name': ...</td>\n",
              "      <td>20</td>\n",
              "      <td>6</td>\n",
              "      <td>{'name': 'msd', 'user_based': True}</td>\n",
              "    </tr>\n",
              "    <tr>\n",
              "      <th>3</th>\n",
              "      <td>0.983943</td>\n",
              "      <td>1.001015</td>\n",
              "      <td>1.002882</td>\n",
              "      <td>0.995947</td>\n",
              "      <td>0.008522</td>\n",
              "      <td>15</td>\n",
              "      <td>0.762069</td>\n",
              "      <td>0.772361</td>\n",
              "      <td>0.775914</td>\n",
              "      <td>0.770115</td>\n",
              "      <td>0.005871</td>\n",
              "      <td>15</td>\n",
              "      <td>0.775139</td>\n",
              "      <td>0.071557</td>\n",
              "      <td>3.170639</td>\n",
              "      <td>0.007371</td>\n",
              "      <td>{'k': 20, 'min_k': 6, 'sim_options': {'name': ...</td>\n",
              "      <td>20</td>\n",
              "      <td>6</td>\n",
              "      <td>{'name': 'cosine', 'user_based': True}</td>\n",
              "    </tr>\n",
              "    <tr>\n",
              "      <th>4</th>\n",
              "      <td>0.963575</td>\n",
              "      <td>0.977209</td>\n",
              "      <td>0.982595</td>\n",
              "      <td>0.974460</td>\n",
              "      <td>0.008004</td>\n",
              "      <td>7</td>\n",
              "      <td>0.742892</td>\n",
              "      <td>0.750714</td>\n",
              "      <td>0.755196</td>\n",
              "      <td>0.749601</td>\n",
              "      <td>0.005084</td>\n",
              "      <td>6</td>\n",
              "      <td>0.211207</td>\n",
              "      <td>0.031689</td>\n",
              "      <td>3.151500</td>\n",
              "      <td>0.125638</td>\n",
              "      <td>{'k': 20, 'min_k': 9, 'sim_options': {'name': ...</td>\n",
              "      <td>20</td>\n",
              "      <td>9</td>\n",
              "      <td>{'name': 'msd', 'user_based': True}</td>\n",
              "    </tr>\n",
              "  </tbody>\n",
              "</table>\n",
              "</div>\n",
              "      <button class=\"colab-df-convert\" onclick=\"convertToInteractive('df-84e839b3-fa07-4e64-a774-3668233d6edc')\"\n",
              "              title=\"Convert this dataframe to an interactive table.\"\n",
              "              style=\"display:none;\">\n",
              "        \n",
              "  <svg xmlns=\"http://www.w3.org/2000/svg\" height=\"24px\"viewBox=\"0 0 24 24\"\n",
              "       width=\"24px\">\n",
              "    <path d=\"M0 0h24v24H0V0z\" fill=\"none\"/>\n",
              "    <path d=\"M18.56 5.44l.94 2.06.94-2.06 2.06-.94-2.06-.94-.94-2.06-.94 2.06-2.06.94zm-11 1L8.5 8.5l.94-2.06 2.06-.94-2.06-.94L8.5 2.5l-.94 2.06-2.06.94zm10 10l.94 2.06.94-2.06 2.06-.94-2.06-.94-.94-2.06-.94 2.06-2.06.94z\"/><path d=\"M17.41 7.96l-1.37-1.37c-.4-.4-.92-.59-1.43-.59-.52 0-1.04.2-1.43.59L10.3 9.45l-7.72 7.72c-.78.78-.78 2.05 0 2.83L4 21.41c.39.39.9.59 1.41.59.51 0 1.02-.2 1.41-.59l7.78-7.78 2.81-2.81c.8-.78.8-2.07 0-2.86zM5.41 20L4 18.59l7.72-7.72 1.47 1.35L5.41 20z\"/>\n",
              "  </svg>\n",
              "      </button>\n",
              "      \n",
              "  <style>\n",
              "    .colab-df-container {\n",
              "      display:flex;\n",
              "      flex-wrap:wrap;\n",
              "      gap: 12px;\n",
              "    }\n",
              "\n",
              "    .colab-df-convert {\n",
              "      background-color: #E8F0FE;\n",
              "      border: none;\n",
              "      border-radius: 50%;\n",
              "      cursor: pointer;\n",
              "      display: none;\n",
              "      fill: #1967D2;\n",
              "      height: 32px;\n",
              "      padding: 0 0 0 0;\n",
              "      width: 32px;\n",
              "    }\n",
              "\n",
              "    .colab-df-convert:hover {\n",
              "      background-color: #E2EBFA;\n",
              "      box-shadow: 0px 1px 2px rgba(60, 64, 67, 0.3), 0px 1px 3px 1px rgba(60, 64, 67, 0.15);\n",
              "      fill: #174EA6;\n",
              "    }\n",
              "\n",
              "    [theme=dark] .colab-df-convert {\n",
              "      background-color: #3B4455;\n",
              "      fill: #D2E3FC;\n",
              "    }\n",
              "\n",
              "    [theme=dark] .colab-df-convert:hover {\n",
              "      background-color: #434B5C;\n",
              "      box-shadow: 0px 1px 3px 1px rgba(0, 0, 0, 0.15);\n",
              "      filter: drop-shadow(0px 1px 2px rgba(0, 0, 0, 0.3));\n",
              "      fill: #FFFFFF;\n",
              "    }\n",
              "  </style>\n",
              "\n",
              "      <script>\n",
              "        const buttonEl =\n",
              "          document.querySelector('#df-84e839b3-fa07-4e64-a774-3668233d6edc button.colab-df-convert');\n",
              "        buttonEl.style.display =\n",
              "          google.colab.kernel.accessAllowed ? 'block' : 'none';\n",
              "\n",
              "        async function convertToInteractive(key) {\n",
              "          const element = document.querySelector('#df-84e839b3-fa07-4e64-a774-3668233d6edc');\n",
              "          const dataTable =\n",
              "            await google.colab.kernel.invokeFunction('convertToInteractive',\n",
              "                                                     [key], {});\n",
              "          if (!dataTable) return;\n",
              "\n",
              "          const docLinkHtml = 'Like what you see? Visit the ' +\n",
              "            '<a target=\"_blank\" href=https://colab.research.google.com/notebooks/data_table.ipynb>data table notebook</a>'\n",
              "            + ' to learn more about interactive tables.';\n",
              "          element.innerHTML = '';\n",
              "          dataTable['output_type'] = 'display_data';\n",
              "          await google.colab.output.renderOutput(dataTable, element);\n",
              "          const docLink = document.createElement('div');\n",
              "          docLink.innerHTML = docLinkHtml;\n",
              "          element.appendChild(docLink);\n",
              "        }\n",
              "      </script>\n",
              "    </div>\n",
              "  </div>\n",
              "  "
            ]
          },
          "metadata": {},
          "execution_count": 28
        }
      ],
      "source": [
        "# RMSE and MAE at each split\n",
        "results_df = pd.DataFrame.from_dict(grid.cv_results)\n",
        "results_df.head()"
      ]
    },
    {
      "cell_type": "code",
      "source": [
        "# Finding optimal RMSE \n",
        "print(\"best RMSE: \"+str(grid.best_score['rmse']))\n",
        "\n",
        "# Finding hyperparameters that gave the best RMSE \n",
        "best_parameters = grid.best_params['rmse']\n",
        "print(\"best parameters: \"+str(best_parameters))\n",
        "\n",
        "best_k = best_parameters['k']\n",
        "best_min_k = best_parameters['min_k']\n",
        "sim_options = best_parameters['sim_options']"
      ],
      "metadata": {
        "colab": {
          "base_uri": "https://localhost:8080/"
        },
        "id": "6qv1HCoGNOhz",
        "outputId": "043b8229-b96d-4fde-dc8e-fbf25bfd81bd"
      },
      "execution_count": null,
      "outputs": [
        {
          "output_type": "stream",
          "name": "stdout",
          "text": [
            "best RMSE: 0.9648774931420049\n",
            "best parameters: {'k': 20, 'min_k': 3, 'sim_options': {'name': 'msd', 'user_based': True}}\n"
          ]
        }
      ]
    },
    {
      "cell_type": "markdown",
      "source": [
        "**Tuned model**"
      ],
      "metadata": {
        "id": "UNSzmxKWNb2l"
      }
    },
    {
      "cell_type": "code",
      "execution_count": null,
      "metadata": {
        "id": "PujRJA8X_JEJ",
        "colab": {
          "base_uri": "https://localhost:8080/"
        },
        "outputId": "f262dca0-d0f2-45a4-8794-ba686ecc363f"
      },
      "outputs": [
        {
          "output_type": "stream",
          "name": "stdout",
          "text": [
            "RMSE: 0.9571\n"
          ]
        },
        {
          "output_type": "execute_result",
          "data": {
            "text/plain": [
              "0.9571445417153293"
            ]
          },
          "metadata": {},
          "execution_count": 30
        }
      ],
      "source": [
        "user_algorithm_optimized = KNNBasic(sim_options=sim_options, k=best_k, min_k=best_min_k, verbose=False)\n",
        "\n",
        "# Training\n",
        "user_algorithm_optimized.fit(training_data)\n",
        "# Testing\n",
        "predicted_ratings = user_algorithm_optimized.test(test_data)\n",
        "# RMSE\n",
        "accuracy.rmse(predicted_ratings)"
      ]
    },
    {
      "cell_type": "markdown",
      "metadata": {
        "id": "YA37vQ6qnVNG"
      },
      "source": [
        "**RMSE before tuning = 0.9925**\n",
        "\n",
        "**RMSE after tuning = 0.9571**"
      ]
    },
    {
      "cell_type": "markdown",
      "metadata": {
        "id": "3gZQybgVwIB1"
      },
      "source": [
        "### **Predicting rating using tuned user-based recommender system, given a user and movie**"
      ]
    },
    {
      "cell_type": "code",
      "source": [
        "userId_input = int(input(\"Enter a user Id: \"))\n",
        "movieId_input = int(input(\"Enter a movie Id: \"))\n",
        "\n",
        "predicted_rating_output = user_algorithm_optimized.predict(userId_input, movieId_input, r_ui=4, verbose=True)\n",
        "print(\"\\nPredicted rating: \"+\"{:.2f}\".format(predicted_rating_output.est))"
      ],
      "metadata": {
        "colab": {
          "base_uri": "https://localhost:8080/"
        },
        "id": "O3IjhCil9R13",
        "outputId": "dbfad07b-ada0-440a-d26a-bc76c4e39e64"
      },
      "execution_count": null,
      "outputs": [
        {
          "output_type": "stream",
          "name": "stdout",
          "text": [
            "Enter a user Id: 4\n",
            "Enter a movie Id: 2\n",
            "user: 4          item: 2          r_ui = 4.00   est = 4.05   {'actual_k': 20, 'was_impossible': False}\n",
            "\n",
            "Predicted rating: 4.05\n"
          ]
        }
      ]
    },
    {
      "cell_type": "markdown",
      "metadata": {
        "id": "o2QsfqhanVNH"
      },
      "source": [
        "### **Identifying similar users to a given user (k- nearest neighbors) based on msd distance**"
      ]
    },
    {
      "cell_type": "code",
      "source": [
        "userId_input = int(input(\"Enter the user Id: \"))\n",
        "k_input = int(input(\"Enter the value for k: \"))\n",
        "\n",
        "neighbors = user_algorithm_optimized.get_neighbors(userId_input, k=k_input)\n",
        "print(\"\\n\"+str(k_input)+\" similar users: \"+ str(neighbors))"
      ],
      "metadata": {
        "colab": {
          "base_uri": "https://localhost:8080/"
        },
        "id": "VvZGr3-D-q4i",
        "outputId": "7e8beb36-3304-41e6-c20a-9a9ef094c8ea"
      },
      "execution_count": null,
      "outputs": [
        {
          "output_type": "stream",
          "name": "stdout",
          "text": [
            "Enter the user Id: 3\n",
            "Enter the value for k: 2\n",
            "\n",
            "2 similar users: [118, 296]\n"
          ]
        }
      ]
    },
    {
      "cell_type": "markdown",
      "metadata": {
        "id": "Z0NsrX_anVNH"
      },
      "source": [
        "### **Implementing the recommendation system**"
      ]
    },
    {
      "cell_type": "code",
      "execution_count": null,
      "metadata": {
        "id": "vW9V1Tk65HlY"
      },
      "outputs": [],
      "source": [
        "def get_recommendations(rating_data, user_Id, n, selected_algorithm):\n",
        "    \n",
        "    recommended_movies = []\n",
        "    user_item_interactions_matrix = rating_data.pivot(index='userId', columns='movieId', values='rating')\n",
        "    \n",
        "    # Movies the user has not interacted with yet\n",
        "    userId_interactions = user_item_interactions_matrix.loc[user_Id]\n",
        "    non_interacted_movies = userId_interactions[userId_interactions.isnull()].index.tolist()\n",
        "    \n",
        "    for movie_Id in non_interacted_movies:\n",
        "        # predicting ratings\n",
        "        est_ratings = selected_algorithm.predict(user_Id, movie_Id).est\n",
        "        recommended_movies.append((movie_Id, est_ratings))\n",
        "\n",
        "    # Sorting - descending order\n",
        "    def key_method(x):\n",
        "      return x[1]\n",
        "    recommended_movies.sort(key=key_method, reverse=True)\n",
        "    return recommended_movies[:n] "
      ]
    },
    {
      "cell_type": "markdown",
      "metadata": {
        "id": "33GchLEiwICA"
      },
      "source": [
        "### **Predicting the top n movies for a given userId with user-based recommender system**"
      ]
    },
    {
      "cell_type": "code",
      "source": [
        "userId_input = int(input(\"Enter a userId: \"))\n",
        "n_input = int(input(\"Enter a value for n: \"))\n",
        "\n",
        "recommendations = get_recommendations(rating, userId_input, n_input, user_algorithm_optimized)\n",
        "recommendations"
      ],
      "metadata": {
        "colab": {
          "base_uri": "https://localhost:8080/"
        },
        "id": "mVCaHKFHPV8o",
        "outputId": "a156db30-e5ef-4d0b-864c-b39bb3bb8995"
      },
      "execution_count": null,
      "outputs": [
        {
          "name": "stdout",
          "output_type": "stream",
          "text": [
            "Enter a userId: 3\n",
            "Enter a value for n: 10\n"
          ]
        },
        {
          "output_type": "execute_result",
          "data": {
            "text/plain": [
              "[(309, 5),\n",
              " (3038, 5),\n",
              " (98491, 4.8449656287504705),\n",
              " (6273, 4.830358516694876),\n",
              " (3357, 4.822834645669292),\n",
              " (27803, 4.804772791492203),\n",
              " (116, 4.78733999168678),\n",
              " (80, 4.7704389850986715),\n",
              " (93040, 4.763636363636363),\n",
              " (1192, 4.722004953112376)]"
            ]
          },
          "metadata": {},
          "execution_count": 35
        }
      ]
    },
    {
      "cell_type": "markdown",
      "metadata": {
        "id": "pqm4J6aQwICB"
      },
      "source": [
        "## **Item-based Collaborative Filtering Recommender System**"
      ]
    },
    {
      "cell_type": "markdown",
      "metadata": {
        "id": "ofHOWy89YWib"
      },
      "source": [
        "### **Building a baseline item-item similarity based recommendation system**"
      ]
    },
    {
      "cell_type": "code",
      "execution_count": null,
      "metadata": {
        "id": "fa8W64l5wICB",
        "colab": {
          "base_uri": "https://localhost:8080/"
        },
        "outputId": "6726e1a2-8ed3-4461-ca23-850ad9e22d9f"
      },
      "outputs": [
        {
          "output_type": "stream",
          "name": "stdout",
          "text": [
            "RMSE: 1.0032\n"
          ]
        },
        {
          "output_type": "execute_result",
          "data": {
            "text/plain": [
              "1.003221450633729"
            ]
          },
          "metadata": {},
          "execution_count": 32
        }
      ],
      "source": [
        "# options - cosine similarity and item-based\n",
        "sim_options = {'name': 'cosine',\n",
        "               'user_based': False}\n",
        "item_algorithm = KNNBasic(sim_options=sim_options,verbose=False)\n",
        "\n",
        "# Training\n",
        "item_algorithm.fit(training_data)\n",
        "# Testing\n",
        "predicted_ratings = item_algorithm.test(test_data)\n",
        "# RMSE\n",
        "accuracy.rmse(predicted_ratings)"
      ]
    },
    {
      "cell_type": "markdown",
      "metadata": {
        "id": "egyW6VMYwICD"
      },
      "source": [
        "### **Predicting rating using baseline item-based recommender system, given a user and movie**"
      ]
    },
    {
      "cell_type": "code",
      "source": [
        "userId_input = int(input(\"Enter a user Id: \"))\n",
        "movieId_input = int(input(\"Enter a movie Id: \"))\n",
        "\n",
        "predicted_rating_output=item_algorithm.predict(userId_input, movieId_input, r_ui=4, verbose=True)\n",
        "print(\"\\nPredicted rating: \"+\"{:.2f}\".format(predicted_rating_output.est))"
      ],
      "metadata": {
        "colab": {
          "base_uri": "https://localhost:8080/"
        },
        "id": "914Yfy1pOgrO",
        "outputId": "e7f500e8-3d59-4070-f0a1-24e1688bf167"
      },
      "execution_count": null,
      "outputs": [
        {
          "output_type": "stream",
          "name": "stdout",
          "text": [
            "Enter a user Id: 10\n",
            "Enter a movie Id: 78\n",
            "user: 10         item: 78         r_ui = 4.00   est = 3.70   {'actual_k': 31, 'was_impossible': False}\n",
            "\n",
            "Predicted rating: 3.70\n"
          ]
        }
      ]
    },
    {
      "cell_type": "markdown",
      "metadata": {
        "id": "utHBZ67JwICI"
      },
      "source": [
        "### **Hyperparameter tuning for the baseline item-based collaborative filtering recommender system**"
      ]
    },
    {
      "cell_type": "code",
      "source": [
        "possible_parameters = {'k': [20, 30, 40], 'min_k': [3, 6, 9],\n",
        "              'sim_options': {'name': ['msd', 'cosine'],\n",
        "                              'user_based': [False]}}"
      ],
      "metadata": {
        "id": "akRQxZ32cmEL"
      },
      "execution_count": null,
      "outputs": []
    },
    {
      "cell_type": "code",
      "execution_count": null,
      "metadata": {
        "id": "0ZmIvW--wICJ"
      },
      "outputs": [],
      "source": [
        "# grid search cross validation with 3 folds\n",
        "grid = GridSearchCV(KNNBasic, possible_parameters, measures=['rmse', 'mae'], cv=3, n_jobs=-1)\n",
        "\n",
        "# Fitting the data\n",
        "grid.fit(data)"
      ]
    },
    {
      "cell_type": "code",
      "execution_count": null,
      "metadata": {
        "id": "ITKMae3LwICL",
        "scrolled": false,
        "colab": {
          "base_uri": "https://localhost:8080/",
          "height": 530
        },
        "outputId": "480d8c67-37ae-4b37-e7fe-8a6040182771"
      },
      "outputs": [
        {
          "output_type": "execute_result",
          "data": {
            "text/plain": [
              "   split0_test_rmse  split1_test_rmse  split2_test_rmse  mean_test_rmse  \\\n",
              "0          0.949729          0.954930          0.948565        0.951075   \n",
              "1          1.011740          1.019529          1.013776        1.015015   \n",
              "2          0.949552          0.955026          0.948779        0.951119   \n",
              "3          1.011699          1.019589          1.013973        1.015087   \n",
              "4          0.950110          0.955533          0.948969        0.951537   \n",
              "\n",
              "   std_test_rmse  rank_test_rmse  split0_test_mae  split1_test_mae  \\\n",
              "0       0.002767               7         0.732362         0.738976   \n",
              "1       0.003298              16         0.788561         0.795062   \n",
              "2       0.002781               8         0.732364         0.739078   \n",
              "3       0.003316              17         0.788614         0.795211   \n",
              "4       0.002863               9         0.732800         0.739339   \n",
              "\n",
              "   split2_test_mae  mean_test_mae  std_test_mae  rank_test_mae  mean_fit_time  \\\n",
              "0         0.732904       0.734747      0.002998              7       7.733609   \n",
              "1         0.789324       0.790983      0.002901             16      21.468604   \n",
              "2         0.733210       0.734884      0.002986              8       6.825022   \n",
              "3         0.789597       0.791141      0.002906             17      20.314271   \n",
              "4         0.733416       0.735185      0.002948              9       6.342079   \n",
              "\n",
              "   std_fit_time  mean_test_time  std_test_time  \\\n",
              "0      0.214280       12.453742       1.402902   \n",
              "1      1.427294       11.449691       0.364153   \n",
              "2      0.163206       11.710465       0.568518   \n",
              "3      0.573914       11.656845       0.539850   \n",
              "4      0.334032       12.091772       0.627437   \n",
              "\n",
              "                                              params  param_k  param_min_k  \\\n",
              "0  {'k': 20, 'min_k': 3, 'sim_options': {'name': ...       20            3   \n",
              "1  {'k': 20, 'min_k': 3, 'sim_options': {'name': ...       20            3   \n",
              "2  {'k': 20, 'min_k': 6, 'sim_options': {'name': ...       20            6   \n",
              "3  {'k': 20, 'min_k': 6, 'sim_options': {'name': ...       20            6   \n",
              "4  {'k': 20, 'min_k': 9, 'sim_options': {'name': ...       20            9   \n",
              "\n",
              "                         param_sim_options  \n",
              "0     {'name': 'msd', 'user_based': False}  \n",
              "1  {'name': 'cosine', 'user_based': False}  \n",
              "2     {'name': 'msd', 'user_based': False}  \n",
              "3  {'name': 'cosine', 'user_based': False}  \n",
              "4     {'name': 'msd', 'user_based': False}  "
            ],
            "text/html": [
              "\n",
              "  <div id=\"df-d36499b5-ddf3-49ff-9abe-004ef8b339fb\">\n",
              "    <div class=\"colab-df-container\">\n",
              "      <div>\n",
              "<style scoped>\n",
              "    .dataframe tbody tr th:only-of-type {\n",
              "        vertical-align: middle;\n",
              "    }\n",
              "\n",
              "    .dataframe tbody tr th {\n",
              "        vertical-align: top;\n",
              "    }\n",
              "\n",
              "    .dataframe thead th {\n",
              "        text-align: right;\n",
              "    }\n",
              "</style>\n",
              "<table border=\"1\" class=\"dataframe\">\n",
              "  <thead>\n",
              "    <tr style=\"text-align: right;\">\n",
              "      <th></th>\n",
              "      <th>split0_test_rmse</th>\n",
              "      <th>split1_test_rmse</th>\n",
              "      <th>split2_test_rmse</th>\n",
              "      <th>mean_test_rmse</th>\n",
              "      <th>std_test_rmse</th>\n",
              "      <th>rank_test_rmse</th>\n",
              "      <th>split0_test_mae</th>\n",
              "      <th>split1_test_mae</th>\n",
              "      <th>split2_test_mae</th>\n",
              "      <th>mean_test_mae</th>\n",
              "      <th>std_test_mae</th>\n",
              "      <th>rank_test_mae</th>\n",
              "      <th>mean_fit_time</th>\n",
              "      <th>std_fit_time</th>\n",
              "      <th>mean_test_time</th>\n",
              "      <th>std_test_time</th>\n",
              "      <th>params</th>\n",
              "      <th>param_k</th>\n",
              "      <th>param_min_k</th>\n",
              "      <th>param_sim_options</th>\n",
              "    </tr>\n",
              "  </thead>\n",
              "  <tbody>\n",
              "    <tr>\n",
              "      <th>0</th>\n",
              "      <td>0.949729</td>\n",
              "      <td>0.954930</td>\n",
              "      <td>0.948565</td>\n",
              "      <td>0.951075</td>\n",
              "      <td>0.002767</td>\n",
              "      <td>7</td>\n",
              "      <td>0.732362</td>\n",
              "      <td>0.738976</td>\n",
              "      <td>0.732904</td>\n",
              "      <td>0.734747</td>\n",
              "      <td>0.002998</td>\n",
              "      <td>7</td>\n",
              "      <td>7.733609</td>\n",
              "      <td>0.214280</td>\n",
              "      <td>12.453742</td>\n",
              "      <td>1.402902</td>\n",
              "      <td>{'k': 20, 'min_k': 3, 'sim_options': {'name': ...</td>\n",
              "      <td>20</td>\n",
              "      <td>3</td>\n",
              "      <td>{'name': 'msd', 'user_based': False}</td>\n",
              "    </tr>\n",
              "    <tr>\n",
              "      <th>1</th>\n",
              "      <td>1.011740</td>\n",
              "      <td>1.019529</td>\n",
              "      <td>1.013776</td>\n",
              "      <td>1.015015</td>\n",
              "      <td>0.003298</td>\n",
              "      <td>16</td>\n",
              "      <td>0.788561</td>\n",
              "      <td>0.795062</td>\n",
              "      <td>0.789324</td>\n",
              "      <td>0.790983</td>\n",
              "      <td>0.002901</td>\n",
              "      <td>16</td>\n",
              "      <td>21.468604</td>\n",
              "      <td>1.427294</td>\n",
              "      <td>11.449691</td>\n",
              "      <td>0.364153</td>\n",
              "      <td>{'k': 20, 'min_k': 3, 'sim_options': {'name': ...</td>\n",
              "      <td>20</td>\n",
              "      <td>3</td>\n",
              "      <td>{'name': 'cosine', 'user_based': False}</td>\n",
              "    </tr>\n",
              "    <tr>\n",
              "      <th>2</th>\n",
              "      <td>0.949552</td>\n",
              "      <td>0.955026</td>\n",
              "      <td>0.948779</td>\n",
              "      <td>0.951119</td>\n",
              "      <td>0.002781</td>\n",
              "      <td>8</td>\n",
              "      <td>0.732364</td>\n",
              "      <td>0.739078</td>\n",
              "      <td>0.733210</td>\n",
              "      <td>0.734884</td>\n",
              "      <td>0.002986</td>\n",
              "      <td>8</td>\n",
              "      <td>6.825022</td>\n",
              "      <td>0.163206</td>\n",
              "      <td>11.710465</td>\n",
              "      <td>0.568518</td>\n",
              "      <td>{'k': 20, 'min_k': 6, 'sim_options': {'name': ...</td>\n",
              "      <td>20</td>\n",
              "      <td>6</td>\n",
              "      <td>{'name': 'msd', 'user_based': False}</td>\n",
              "    </tr>\n",
              "    <tr>\n",
              "      <th>3</th>\n",
              "      <td>1.011699</td>\n",
              "      <td>1.019589</td>\n",
              "      <td>1.013973</td>\n",
              "      <td>1.015087</td>\n",
              "      <td>0.003316</td>\n",
              "      <td>17</td>\n",
              "      <td>0.788614</td>\n",
              "      <td>0.795211</td>\n",
              "      <td>0.789597</td>\n",
              "      <td>0.791141</td>\n",
              "      <td>0.002906</td>\n",
              "      <td>17</td>\n",
              "      <td>20.314271</td>\n",
              "      <td>0.573914</td>\n",
              "      <td>11.656845</td>\n",
              "      <td>0.539850</td>\n",
              "      <td>{'k': 20, 'min_k': 6, 'sim_options': {'name': ...</td>\n",
              "      <td>20</td>\n",
              "      <td>6</td>\n",
              "      <td>{'name': 'cosine', 'user_based': False}</td>\n",
              "    </tr>\n",
              "    <tr>\n",
              "      <th>4</th>\n",
              "      <td>0.950110</td>\n",
              "      <td>0.955533</td>\n",
              "      <td>0.948969</td>\n",
              "      <td>0.951537</td>\n",
              "      <td>0.002863</td>\n",
              "      <td>9</td>\n",
              "      <td>0.732800</td>\n",
              "      <td>0.739339</td>\n",
              "      <td>0.733416</td>\n",
              "      <td>0.735185</td>\n",
              "      <td>0.002948</td>\n",
              "      <td>9</td>\n",
              "      <td>6.342079</td>\n",
              "      <td>0.334032</td>\n",
              "      <td>12.091772</td>\n",
              "      <td>0.627437</td>\n",
              "      <td>{'k': 20, 'min_k': 9, 'sim_options': {'name': ...</td>\n",
              "      <td>20</td>\n",
              "      <td>9</td>\n",
              "      <td>{'name': 'msd', 'user_based': False}</td>\n",
              "    </tr>\n",
              "  </tbody>\n",
              "</table>\n",
              "</div>\n",
              "      <button class=\"colab-df-convert\" onclick=\"convertToInteractive('df-d36499b5-ddf3-49ff-9abe-004ef8b339fb')\"\n",
              "              title=\"Convert this dataframe to an interactive table.\"\n",
              "              style=\"display:none;\">\n",
              "        \n",
              "  <svg xmlns=\"http://www.w3.org/2000/svg\" height=\"24px\"viewBox=\"0 0 24 24\"\n",
              "       width=\"24px\">\n",
              "    <path d=\"M0 0h24v24H0V0z\" fill=\"none\"/>\n",
              "    <path d=\"M18.56 5.44l.94 2.06.94-2.06 2.06-.94-2.06-.94-.94-2.06-.94 2.06-2.06.94zm-11 1L8.5 8.5l.94-2.06 2.06-.94-2.06-.94L8.5 2.5l-.94 2.06-2.06.94zm10 10l.94 2.06.94-2.06 2.06-.94-2.06-.94-.94-2.06-.94 2.06-2.06.94z\"/><path d=\"M17.41 7.96l-1.37-1.37c-.4-.4-.92-.59-1.43-.59-.52 0-1.04.2-1.43.59L10.3 9.45l-7.72 7.72c-.78.78-.78 2.05 0 2.83L4 21.41c.39.39.9.59 1.41.59.51 0 1.02-.2 1.41-.59l7.78-7.78 2.81-2.81c.8-.78.8-2.07 0-2.86zM5.41 20L4 18.59l7.72-7.72 1.47 1.35L5.41 20z\"/>\n",
              "  </svg>\n",
              "      </button>\n",
              "      \n",
              "  <style>\n",
              "    .colab-df-container {\n",
              "      display:flex;\n",
              "      flex-wrap:wrap;\n",
              "      gap: 12px;\n",
              "    }\n",
              "\n",
              "    .colab-df-convert {\n",
              "      background-color: #E8F0FE;\n",
              "      border: none;\n",
              "      border-radius: 50%;\n",
              "      cursor: pointer;\n",
              "      display: none;\n",
              "      fill: #1967D2;\n",
              "      height: 32px;\n",
              "      padding: 0 0 0 0;\n",
              "      width: 32px;\n",
              "    }\n",
              "\n",
              "    .colab-df-convert:hover {\n",
              "      background-color: #E2EBFA;\n",
              "      box-shadow: 0px 1px 2px rgba(60, 64, 67, 0.3), 0px 1px 3px 1px rgba(60, 64, 67, 0.15);\n",
              "      fill: #174EA6;\n",
              "    }\n",
              "\n",
              "    [theme=dark] .colab-df-convert {\n",
              "      background-color: #3B4455;\n",
              "      fill: #D2E3FC;\n",
              "    }\n",
              "\n",
              "    [theme=dark] .colab-df-convert:hover {\n",
              "      background-color: #434B5C;\n",
              "      box-shadow: 0px 1px 3px 1px rgba(0, 0, 0, 0.15);\n",
              "      filter: drop-shadow(0px 1px 2px rgba(0, 0, 0, 0.3));\n",
              "      fill: #FFFFFF;\n",
              "    }\n",
              "  </style>\n",
              "\n",
              "      <script>\n",
              "        const buttonEl =\n",
              "          document.querySelector('#df-d36499b5-ddf3-49ff-9abe-004ef8b339fb button.colab-df-convert');\n",
              "        buttonEl.style.display =\n",
              "          google.colab.kernel.accessAllowed ? 'block' : 'none';\n",
              "\n",
              "        async function convertToInteractive(key) {\n",
              "          const element = document.querySelector('#df-d36499b5-ddf3-49ff-9abe-004ef8b339fb');\n",
              "          const dataTable =\n",
              "            await google.colab.kernel.invokeFunction('convertToInteractive',\n",
              "                                                     [key], {});\n",
              "          if (!dataTable) return;\n",
              "\n",
              "          const docLinkHtml = 'Like what you see? Visit the ' +\n",
              "            '<a target=\"_blank\" href=https://colab.research.google.com/notebooks/data_table.ipynb>data table notebook</a>'\n",
              "            + ' to learn more about interactive tables.';\n",
              "          element.innerHTML = '';\n",
              "          dataTable['output_type'] = 'display_data';\n",
              "          await google.colab.output.renderOutput(dataTable, element);\n",
              "          const docLink = document.createElement('div');\n",
              "          docLink.innerHTML = docLinkHtml;\n",
              "          element.appendChild(docLink);\n",
              "        }\n",
              "      </script>\n",
              "    </div>\n",
              "  </div>\n",
              "  "
            ]
          },
          "metadata": {},
          "execution_count": 35
        }
      ],
      "source": [
        "results_df = pd.DataFrame.from_dict(grid.cv_results)\n",
        "results_df.head()"
      ]
    },
    {
      "cell_type": "code",
      "source": [
        "# Finding optimal RMSE \n",
        "print(\"best RMSE: \"+str(grid.best_score['rmse']))\n",
        "\n",
        "# Finding hyperparameters that gave the best RMSE \n",
        "best_parameters = grid.best_params['rmse']\n",
        "print(\"best parameters: \"+str(best_parameters))\n",
        "\n",
        "best_k = best_parameters['k']\n",
        "best_min_k = best_parameters['min_k']\n",
        "sim_options = best_parameters['sim_options']"
      ],
      "metadata": {
        "colab": {
          "base_uri": "https://localhost:8080/"
        },
        "id": "7OfVPdujc_EB",
        "outputId": "ae843160-c320-4f8a-d103-6945e5384295"
      },
      "execution_count": null,
      "outputs": [
        {
          "output_type": "stream",
          "name": "stdout",
          "text": [
            "best RMSE: 0.9405685992004376\n",
            "best parameters: {'k': 40, 'min_k': 3, 'sim_options': {'name': 'msd', 'user_based': False}}\n"
          ]
        }
      ]
    },
    {
      "cell_type": "markdown",
      "source": [
        "**Tuned model**"
      ],
      "metadata": {
        "id": "rJkmvdsf2rUt"
      }
    },
    {
      "cell_type": "code",
      "execution_count": null,
      "metadata": {
        "id": "46irii4pwICL",
        "colab": {
          "base_uri": "https://localhost:8080/"
        },
        "outputId": "c639f5f4-b1cb-45e3-e035-4428ad2fb87d"
      },
      "outputs": [
        {
          "output_type": "stream",
          "name": "stdout",
          "text": [
            "RMSE: 0.9433\n"
          ]
        },
        {
          "output_type": "execute_result",
          "data": {
            "text/plain": [
              "0.9433184999641279"
            ]
          },
          "metadata": {},
          "execution_count": 37
        }
      ],
      "source": [
        "item_algorithm_optimized = KNNBasic(sim_options=sim_options, k=best_k, min_k=best_min_k, verbose=False)\n",
        "\n",
        "# Training\n",
        "item_algorithm_optimized.fit(training_data)\n",
        "# Testing\n",
        "predicted_ratings = item_algorithm_optimized.test(test_data)\n",
        "# RMSE\n",
        "accuracy.rmse(predicted_ratings)"
      ]
    },
    {
      "cell_type": "markdown",
      "metadata": {
        "id": "OTdrMpQUwICM"
      },
      "source": [
        "**RMSE before tuning = 1.0032**\n",
        "\n",
        "**RMSE after tuning = 0.9430**"
      ]
    },
    {
      "cell_type": "markdown",
      "metadata": {
        "id": "tiDcRQDvwICN"
      },
      "source": [
        "### **Predicting rating using tuned item-based recommender system, given a user and movie**"
      ]
    },
    {
      "cell_type": "code",
      "execution_count": null,
      "metadata": {
        "id": "Wg8APEG4wICO",
        "colab": {
          "base_uri": "https://localhost:8080/"
        },
        "outputId": "4510d1de-0a12-4122-949a-8d843afb1911"
      },
      "outputs": [
        {
          "output_type": "stream",
          "name": "stdout",
          "text": [
            "Enter a user Id: 8\n",
            "Enter a movie Id: 2\n",
            "user: 8          item: 2          r_ui = 4.00   est = 3.85   {'actual_k': 40, 'was_impossible': False}\n",
            "\n",
            "Predicted rating: 3.85\n"
          ]
        }
      ],
      "source": [
        "userId_input = int(input(\"Enter a user Id: \"))\n",
        "movieId_input = int(input(\"Enter a movie Id: \"))\n",
        "\n",
        "predicted_rating_output = item_algorithm_optimized.predict(userId_input, movieId_input, r_ui=4, verbose=True)\n",
        "print(\"\\nPredicted rating: \"+\"{:.2f}\".format(predicted_rating_output.est))"
      ]
    },
    {
      "cell_type": "markdown",
      "metadata": {
        "id": "xquRIW-XwICS"
      },
      "source": [
        "### **Identifying similar users to a given user (k- nearest neighbors)**\n"
      ]
    },
    {
      "cell_type": "code",
      "execution_count": null,
      "metadata": {
        "id": "b4HbXJv-wICS",
        "colab": {
          "base_uri": "https://localhost:8080/"
        },
        "outputId": "394973af-e575-467c-da4b-c465cb6a352c"
      },
      "outputs": [
        {
          "output_type": "stream",
          "name": "stdout",
          "text": [
            "Enter the user Id: 7\n",
            "Enter the value for k: 2\n",
            "\n",
            "2 similar users: [103, 141]\n"
          ]
        }
      ],
      "source": [
        "userId_input = int(input(\"Enter the user Id: \"))\n",
        "k_input = int(input(\"Enter the value for k: \"))\n",
        "\n",
        "neighbors = item_algorithm_optimized.get_neighbors(userId_input, k=k_input)\n",
        "print(\"\\n\"+str(k_input)+\" similar users: \"+str(neighbors))"
      ]
    },
    {
      "cell_type": "markdown",
      "metadata": {
        "id": "PI69gPEdwICZ"
      },
      "source": [
        "### **Predicting the top n movies for a given userId with item-based recommender system**"
      ]
    },
    {
      "cell_type": "code",
      "execution_count": null,
      "metadata": {
        "id": "RAzdWtCSwICa",
        "colab": {
          "base_uri": "https://localhost:8080/"
        },
        "outputId": "c8bd794c-9b83-4c21-8c29-e3143c0bcb6a"
      },
      "outputs": [
        {
          "name": "stdout",
          "output_type": "stream",
          "text": [
            "Enter a userId: 6\n",
            "Enter a value for n: 8\n"
          ]
        },
        {
          "output_type": "execute_result",
          "data": {
            "text/plain": [
              "[(27186, 5),\n",
              " (57353, 4.875),\n",
              " (53, 4.75),\n",
              " (981, 4.749999999999999),\n",
              " (31374, 4.5),\n",
              " (4755, 4.490407673860911),\n",
              " (90061, 4.490407673860911),\n",
              " (568, 4.470588235294118)]"
            ]
          },
          "metadata": {},
          "execution_count": 39
        }
      ],
      "source": [
        "#using the same get_recommendations method defined for user-based model\n",
        "\n",
        "userId_input = int(input(\"Enter a userId: \"))\n",
        "n_input = int(input(\"Enter a value for n: \"))\n",
        "\n",
        "recommendations = get_recommendations(rating, userId_input, n_input, item_algorithm_optimized)\n",
        "recommendations"
      ]
    },
    {
      "cell_type": "markdown",
      "metadata": {
        "id": "rKgJpSA9vOOL"
      },
      "source": [
        "## **Model-Based Collaborative Filtering: Matrix Factorization using SVD**"
      ]
    },
    {
      "cell_type": "markdown",
      "metadata": {
        "id": "uOtkUXmAnVNL"
      },
      "source": [
        "### **Building a baseline matrix factorization recommender system**"
      ]
    },
    {
      "cell_type": "code",
      "execution_count": null,
      "metadata": {
        "id": "07-2PT5Ssjqm",
        "colab": {
          "base_uri": "https://localhost:8080/"
        },
        "outputId": "f2c12c1e-1ad8-4ead-e1ed-4fe703309147"
      },
      "outputs": [
        {
          "output_type": "stream",
          "name": "stdout",
          "text": [
            "RMSE: 0.9012\n"
          ]
        },
        {
          "output_type": "execute_result",
          "data": {
            "text/plain": [
              "0.9011668758531416"
            ]
          },
          "metadata": {},
          "execution_count": 40
        }
      ],
      "source": [
        "# Using SVD matrix factorization\n",
        "SVD_algorithm = SVD()\n",
        "\n",
        "# Training \n",
        "SVD_algorithm.fit(training_data)\n",
        "# Testing\n",
        "predicted_rating = SVD_algorithm.test(test_data)\n",
        "# RMSE\n",
        "accuracy.rmse(predicted_rating)"
      ]
    },
    {
      "cell_type": "markdown",
      "metadata": {
        "id": "fsBGQrwCwICv"
      },
      "source": [
        "### **Predicting rating using baseline matrix factorization recommender system, given a user and movie**"
      ]
    },
    {
      "cell_type": "code",
      "execution_count": null,
      "metadata": {
        "id": "yWIhfdxXsjqm",
        "colab": {
          "base_uri": "https://localhost:8080/"
        },
        "outputId": "8fcee2ac-467d-4f85-c24e-38e9fea84a38"
      },
      "outputs": [
        {
          "output_type": "stream",
          "name": "stdout",
          "text": [
            "Enter a user Id: 9\n",
            "Enter a movie Id: 6\n",
            "user: 9          item: 6          r_ui = 4.00   est = 3.87   {'was_impossible': False}\n",
            "\n",
            "Predicted rating: 3.87\n"
          ]
        }
      ],
      "source": [
        "userId_input = int(input(\"Enter a user Id: \"))\n",
        "movieId_input = int(input(\"Enter a movie Id: \"))\n",
        "\n",
        "predicted_rating_output = SVD_algorithm.predict(userId_input, movieId_input, r_ui=4, verbose=True)\n",
        "print(\"\\nPredicted rating: \"+\"{:.2f}\".format(predicted_rating_output.est))"
      ]
    },
    {
      "cell_type": "markdown",
      "metadata": {
        "id": "ksN4zUnUwIC_"
      },
      "source": [
        "### **Hyperparameter tuning for the baseline SVD-based collaborative filtering recommender system**"
      ]
    },
    {
      "cell_type": "code",
      "source": [
        "possible_parameters = {'n_epochs': [10, 20, 30], 'lr_all': [0.001, 0.005, 0.01],\n",
        "              'reg_all': [0.2, 0.4, 0.6]}"
      ],
      "metadata": {
        "id": "LL4wMpkikqZB"
      },
      "execution_count": null,
      "outputs": []
    },
    {
      "cell_type": "code",
      "execution_count": null,
      "metadata": {
        "id": "4bM81V_hvtwv"
      },
      "outputs": [],
      "source": [
        "# grid search cross validation with 3 folds\n",
        "grid = GridSearchCV(KNNBasic, possible_parameters, measures=['rmse', 'mae'], cv=3, n_jobs=-1)\n",
        "\n",
        "# Fitting the data\n",
        "grid.fit(data)"
      ]
    },
    {
      "cell_type": "code",
      "execution_count": null,
      "metadata": {
        "id": "RMb3t3z_vt8W",
        "colab": {
          "base_uri": "https://localhost:8080/",
          "height": 617
        },
        "outputId": "af0d4a6e-8da0-4dec-febb-80a9925c2361"
      },
      "outputs": [
        {
          "output_type": "execute_result",
          "data": {
            "text/plain": [
              "   split0_test_rmse  split1_test_rmse  split2_test_rmse  mean_test_rmse  \\\n",
              "0          0.980446          0.976138          0.983775         0.98012   \n",
              "1          0.980446          0.976138          0.983775         0.98012   \n",
              "2          0.980446          0.976138          0.983775         0.98012   \n",
              "3          0.980446          0.976138          0.983775         0.98012   \n",
              "4          0.980446          0.976138          0.983775         0.98012   \n",
              "\n",
              "   std_test_rmse  rank_test_rmse  split0_test_mae  split1_test_mae  \\\n",
              "0       0.003126               1         0.756604         0.750814   \n",
              "1       0.003126              25         0.756604         0.750814   \n",
              "2       0.003126              24         0.756604         0.750814   \n",
              "3       0.003126              23         0.756604         0.750814   \n",
              "4       0.003126              22         0.756604         0.750814   \n",
              "\n",
              "   split2_test_mae  mean_test_mae  std_test_mae  rank_test_mae  mean_fit_time  \\\n",
              "0         0.753843       0.753754      0.002365              1       0.237831   \n",
              "1         0.753843       0.753754      0.002365             25       0.336534   \n",
              "2         0.753843       0.753754      0.002365             24       0.213751   \n",
              "3         0.753843       0.753754      0.002365             23       0.249312   \n",
              "4         0.753843       0.753754      0.002365             22       0.173562   \n",
              "\n",
              "   std_fit_time  mean_test_time  std_test_time  \\\n",
              "0      0.008431        4.818504       0.444118   \n",
              "1      0.012616        4.305166       0.058163   \n",
              "2      0.036999        4.046871       0.262981   \n",
              "3      0.035167        3.976085       0.047205   \n",
              "4      0.008797        3.861193       0.053053   \n",
              "\n",
              "                                              params  param_n_epochs  \\\n",
              "0  {'n_epochs': 10, 'lr_all': 0.001, 'reg_all': 0.2}              10   \n",
              "1  {'n_epochs': 10, 'lr_all': 0.001, 'reg_all': 0.4}              10   \n",
              "2  {'n_epochs': 10, 'lr_all': 0.001, 'reg_all': 0.6}              10   \n",
              "3  {'n_epochs': 10, 'lr_all': 0.005, 'reg_all': 0.2}              10   \n",
              "4  {'n_epochs': 10, 'lr_all': 0.005, 'reg_all': 0.4}              10   \n",
              "\n",
              "   param_lr_all  param_reg_all  \n",
              "0         0.001            0.2  \n",
              "1         0.001            0.4  \n",
              "2         0.001            0.6  \n",
              "3         0.005            0.2  \n",
              "4         0.005            0.4  "
            ],
            "text/html": [
              "\n",
              "  <div id=\"df-d270822a-ed02-407c-b33e-e856c2508498\">\n",
              "    <div class=\"colab-df-container\">\n",
              "      <div>\n",
              "<style scoped>\n",
              "    .dataframe tbody tr th:only-of-type {\n",
              "        vertical-align: middle;\n",
              "    }\n",
              "\n",
              "    .dataframe tbody tr th {\n",
              "        vertical-align: top;\n",
              "    }\n",
              "\n",
              "    .dataframe thead th {\n",
              "        text-align: right;\n",
              "    }\n",
              "</style>\n",
              "<table border=\"1\" class=\"dataframe\">\n",
              "  <thead>\n",
              "    <tr style=\"text-align: right;\">\n",
              "      <th></th>\n",
              "      <th>split0_test_rmse</th>\n",
              "      <th>split1_test_rmse</th>\n",
              "      <th>split2_test_rmse</th>\n",
              "      <th>mean_test_rmse</th>\n",
              "      <th>std_test_rmse</th>\n",
              "      <th>rank_test_rmse</th>\n",
              "      <th>split0_test_mae</th>\n",
              "      <th>split1_test_mae</th>\n",
              "      <th>split2_test_mae</th>\n",
              "      <th>mean_test_mae</th>\n",
              "      <th>std_test_mae</th>\n",
              "      <th>rank_test_mae</th>\n",
              "      <th>mean_fit_time</th>\n",
              "      <th>std_fit_time</th>\n",
              "      <th>mean_test_time</th>\n",
              "      <th>std_test_time</th>\n",
              "      <th>params</th>\n",
              "      <th>param_n_epochs</th>\n",
              "      <th>param_lr_all</th>\n",
              "      <th>param_reg_all</th>\n",
              "    </tr>\n",
              "  </thead>\n",
              "  <tbody>\n",
              "    <tr>\n",
              "      <th>0</th>\n",
              "      <td>0.980446</td>\n",
              "      <td>0.976138</td>\n",
              "      <td>0.983775</td>\n",
              "      <td>0.98012</td>\n",
              "      <td>0.003126</td>\n",
              "      <td>1</td>\n",
              "      <td>0.756604</td>\n",
              "      <td>0.750814</td>\n",
              "      <td>0.753843</td>\n",
              "      <td>0.753754</td>\n",
              "      <td>0.002365</td>\n",
              "      <td>1</td>\n",
              "      <td>0.237831</td>\n",
              "      <td>0.008431</td>\n",
              "      <td>4.818504</td>\n",
              "      <td>0.444118</td>\n",
              "      <td>{'n_epochs': 10, 'lr_all': 0.001, 'reg_all': 0.2}</td>\n",
              "      <td>10</td>\n",
              "      <td>0.001</td>\n",
              "      <td>0.2</td>\n",
              "    </tr>\n",
              "    <tr>\n",
              "      <th>1</th>\n",
              "      <td>0.980446</td>\n",
              "      <td>0.976138</td>\n",
              "      <td>0.983775</td>\n",
              "      <td>0.98012</td>\n",
              "      <td>0.003126</td>\n",
              "      <td>25</td>\n",
              "      <td>0.756604</td>\n",
              "      <td>0.750814</td>\n",
              "      <td>0.753843</td>\n",
              "      <td>0.753754</td>\n",
              "      <td>0.002365</td>\n",
              "      <td>25</td>\n",
              "      <td>0.336534</td>\n",
              "      <td>0.012616</td>\n",
              "      <td>4.305166</td>\n",
              "      <td>0.058163</td>\n",
              "      <td>{'n_epochs': 10, 'lr_all': 0.001, 'reg_all': 0.4}</td>\n",
              "      <td>10</td>\n",
              "      <td>0.001</td>\n",
              "      <td>0.4</td>\n",
              "    </tr>\n",
              "    <tr>\n",
              "      <th>2</th>\n",
              "      <td>0.980446</td>\n",
              "      <td>0.976138</td>\n",
              "      <td>0.983775</td>\n",
              "      <td>0.98012</td>\n",
              "      <td>0.003126</td>\n",
              "      <td>24</td>\n",
              "      <td>0.756604</td>\n",
              "      <td>0.750814</td>\n",
              "      <td>0.753843</td>\n",
              "      <td>0.753754</td>\n",
              "      <td>0.002365</td>\n",
              "      <td>24</td>\n",
              "      <td>0.213751</td>\n",
              "      <td>0.036999</td>\n",
              "      <td>4.046871</td>\n",
              "      <td>0.262981</td>\n",
              "      <td>{'n_epochs': 10, 'lr_all': 0.001, 'reg_all': 0.6}</td>\n",
              "      <td>10</td>\n",
              "      <td>0.001</td>\n",
              "      <td>0.6</td>\n",
              "    </tr>\n",
              "    <tr>\n",
              "      <th>3</th>\n",
              "      <td>0.980446</td>\n",
              "      <td>0.976138</td>\n",
              "      <td>0.983775</td>\n",
              "      <td>0.98012</td>\n",
              "      <td>0.003126</td>\n",
              "      <td>23</td>\n",
              "      <td>0.756604</td>\n",
              "      <td>0.750814</td>\n",
              "      <td>0.753843</td>\n",
              "      <td>0.753754</td>\n",
              "      <td>0.002365</td>\n",
              "      <td>23</td>\n",
              "      <td>0.249312</td>\n",
              "      <td>0.035167</td>\n",
              "      <td>3.976085</td>\n",
              "      <td>0.047205</td>\n",
              "      <td>{'n_epochs': 10, 'lr_all': 0.005, 'reg_all': 0.2}</td>\n",
              "      <td>10</td>\n",
              "      <td>0.005</td>\n",
              "      <td>0.2</td>\n",
              "    </tr>\n",
              "    <tr>\n",
              "      <th>4</th>\n",
              "      <td>0.980446</td>\n",
              "      <td>0.976138</td>\n",
              "      <td>0.983775</td>\n",
              "      <td>0.98012</td>\n",
              "      <td>0.003126</td>\n",
              "      <td>22</td>\n",
              "      <td>0.756604</td>\n",
              "      <td>0.750814</td>\n",
              "      <td>0.753843</td>\n",
              "      <td>0.753754</td>\n",
              "      <td>0.002365</td>\n",
              "      <td>22</td>\n",
              "      <td>0.173562</td>\n",
              "      <td>0.008797</td>\n",
              "      <td>3.861193</td>\n",
              "      <td>0.053053</td>\n",
              "      <td>{'n_epochs': 10, 'lr_all': 0.005, 'reg_all': 0.4}</td>\n",
              "      <td>10</td>\n",
              "      <td>0.005</td>\n",
              "      <td>0.4</td>\n",
              "    </tr>\n",
              "  </tbody>\n",
              "</table>\n",
              "</div>\n",
              "      <button class=\"colab-df-convert\" onclick=\"convertToInteractive('df-d270822a-ed02-407c-b33e-e856c2508498')\"\n",
              "              title=\"Convert this dataframe to an interactive table.\"\n",
              "              style=\"display:none;\">\n",
              "        \n",
              "  <svg xmlns=\"http://www.w3.org/2000/svg\" height=\"24px\"viewBox=\"0 0 24 24\"\n",
              "       width=\"24px\">\n",
              "    <path d=\"M0 0h24v24H0V0z\" fill=\"none\"/>\n",
              "    <path d=\"M18.56 5.44l.94 2.06.94-2.06 2.06-.94-2.06-.94-.94-2.06-.94 2.06-2.06.94zm-11 1L8.5 8.5l.94-2.06 2.06-.94-2.06-.94L8.5 2.5l-.94 2.06-2.06.94zm10 10l.94 2.06.94-2.06 2.06-.94-2.06-.94-.94-2.06-.94 2.06-2.06.94z\"/><path d=\"M17.41 7.96l-1.37-1.37c-.4-.4-.92-.59-1.43-.59-.52 0-1.04.2-1.43.59L10.3 9.45l-7.72 7.72c-.78.78-.78 2.05 0 2.83L4 21.41c.39.39.9.59 1.41.59.51 0 1.02-.2 1.41-.59l7.78-7.78 2.81-2.81c.8-.78.8-2.07 0-2.86zM5.41 20L4 18.59l7.72-7.72 1.47 1.35L5.41 20z\"/>\n",
              "  </svg>\n",
              "      </button>\n",
              "      \n",
              "  <style>\n",
              "    .colab-df-container {\n",
              "      display:flex;\n",
              "      flex-wrap:wrap;\n",
              "      gap: 12px;\n",
              "    }\n",
              "\n",
              "    .colab-df-convert {\n",
              "      background-color: #E8F0FE;\n",
              "      border: none;\n",
              "      border-radius: 50%;\n",
              "      cursor: pointer;\n",
              "      display: none;\n",
              "      fill: #1967D2;\n",
              "      height: 32px;\n",
              "      padding: 0 0 0 0;\n",
              "      width: 32px;\n",
              "    }\n",
              "\n",
              "    .colab-df-convert:hover {\n",
              "      background-color: #E2EBFA;\n",
              "      box-shadow: 0px 1px 2px rgba(60, 64, 67, 0.3), 0px 1px 3px 1px rgba(60, 64, 67, 0.15);\n",
              "      fill: #174EA6;\n",
              "    }\n",
              "\n",
              "    [theme=dark] .colab-df-convert {\n",
              "      background-color: #3B4455;\n",
              "      fill: #D2E3FC;\n",
              "    }\n",
              "\n",
              "    [theme=dark] .colab-df-convert:hover {\n",
              "      background-color: #434B5C;\n",
              "      box-shadow: 0px 1px 3px 1px rgba(0, 0, 0, 0.15);\n",
              "      filter: drop-shadow(0px 1px 2px rgba(0, 0, 0, 0.3));\n",
              "      fill: #FFFFFF;\n",
              "    }\n",
              "  </style>\n",
              "\n",
              "      <script>\n",
              "        const buttonEl =\n",
              "          document.querySelector('#df-d270822a-ed02-407c-b33e-e856c2508498 button.colab-df-convert');\n",
              "        buttonEl.style.display =\n",
              "          google.colab.kernel.accessAllowed ? 'block' : 'none';\n",
              "\n",
              "        async function convertToInteractive(key) {\n",
              "          const element = document.querySelector('#df-d270822a-ed02-407c-b33e-e856c2508498');\n",
              "          const dataTable =\n",
              "            await google.colab.kernel.invokeFunction('convertToInteractive',\n",
              "                                                     [key], {});\n",
              "          if (!dataTable) return;\n",
              "\n",
              "          const docLinkHtml = 'Like what you see? Visit the ' +\n",
              "            '<a target=\"_blank\" href=https://colab.research.google.com/notebooks/data_table.ipynb>data table notebook</a>'\n",
              "            + ' to learn more about interactive tables.';\n",
              "          element.innerHTML = '';\n",
              "          dataTable['output_type'] = 'display_data';\n",
              "          await google.colab.output.renderOutput(dataTable, element);\n",
              "          const docLink = document.createElement('div');\n",
              "          docLink.innerHTML = docLinkHtml;\n",
              "          element.appendChild(docLink);\n",
              "        }\n",
              "      </script>\n",
              "    </div>\n",
              "  </div>\n",
              "  "
            ]
          },
          "metadata": {},
          "execution_count": 44
        }
      ],
      "source": [
        "results_df = pd.DataFrame.from_dict(grid.cv_results)\n",
        "results_df.head()"
      ]
    },
    {
      "cell_type": "code",
      "source": [
        "# Finding optimal RMSE \n",
        "print(\"best RMSE: \"+str(grid.best_score['rmse']))\n",
        "\n",
        "# Finding hyperparameters that gave the best RMSE \n",
        "best_parameters = grid.best_params['rmse']\n",
        "print(\"best parameters: \"+str(best_parameters))\n",
        "\n",
        "best_k = best_parameters['n_epochs']\n",
        "best_min_k = best_parameters['lr_all']\n",
        "sim_options = best_parameters['reg_all']"
      ],
      "metadata": {
        "colab": {
          "base_uri": "https://localhost:8080/"
        },
        "id": "LB9Gyc4FmXyW",
        "outputId": "998bac94-1d42-4e8c-9a76-3b0977bd657e"
      },
      "execution_count": null,
      "outputs": [
        {
          "output_type": "stream",
          "name": "stdout",
          "text": [
            "best RMSE: 0.9801195694217183\n",
            "best parameters: {'n_epochs': 10, 'lr_all': 0.001, 'reg_all': 0.2}\n"
          ]
        }
      ]
    },
    {
      "cell_type": "markdown",
      "metadata": {
        "id": "KzY78HsrnVNO"
      },
      "source": [
        "**Tuned model**"
      ]
    },
    {
      "cell_type": "code",
      "execution_count": null,
      "metadata": {
        "id": "TA_7xe-nnhuu",
        "colab": {
          "base_uri": "https://localhost:8080/"
        },
        "outputId": "5df3ddf1-32f5-4689-84c9-dbe19b9d646d"
      },
      "outputs": [
        {
          "output_type": "stream",
          "name": "stdout",
          "text": [
            "RMSE: 0.8953\n"
          ]
        },
        {
          "output_type": "execute_result",
          "data": {
            "text/plain": [
              "0.895305245523035"
            ]
          },
          "metadata": {},
          "execution_count": 46
        }
      ],
      "source": [
        "SVD_algorithm_optimized = SVD(n_epochs=30, lr_all=0.01, reg_all=0.2)\n",
        "\n",
        "# Training the algorithm on the trainset\n",
        "SVD_algorithm_optimized.fit(training_data)\n",
        "# Predicting ratings for the testset\n",
        "predicted_ratings = SVD_algorithm_optimized.test(test_data)\n",
        "# Computing RMSE\n",
        "accuracy.rmse(predicted_ratings)"
      ]
    },
    {
      "cell_type": "markdown",
      "source": [
        "**RMSE before tuning = 0.9033**\n",
        "\n",
        "**RMSE after tuning = 0.8953**"
      ],
      "metadata": {
        "id": "Q81O4e8Cp4yn"
      }
    },
    {
      "cell_type": "markdown",
      "metadata": {
        "id": "UruWuDiCwIDE"
      },
      "source": [
        "### **Predicting rating using SVD based collaborative filtering, given a user and movie**"
      ]
    },
    {
      "cell_type": "code",
      "execution_count": null,
      "metadata": {
        "id": "s6C1PAfboM8_",
        "colab": {
          "base_uri": "https://localhost:8080/"
        },
        "outputId": "678fe7b6-baf0-4703-c035-b3c5c3fb02d6"
      },
      "outputs": [
        {
          "output_type": "stream",
          "name": "stdout",
          "text": [
            "Enter a user Id: 67\n",
            "Enter a movie Id: 234\n",
            "user: 67         item: 234        r_ui = 4.00   est = 3.17   {'was_impossible': False}\n",
            "\n",
            "Predicted rating: 3.66\n"
          ]
        }
      ],
      "source": [
        "userId_input = int(input(\"Enter a user Id: \"))\n",
        "movieId_input = int(input(\"Enter a movie Id: \"))\n",
        "\n",
        "SVD_algorithm_optimized.predict(userId_input, movieId_input, r_ui=4, verbose=True)\n",
        "print(\"\\nPredicted rating: \"+\"{:.2f}\".format(predicted_rating_output.est))"
      ]
    },
    {
      "cell_type": "markdown",
      "metadata": {
        "id": "5jlUBrbFwIDH"
      },
      "source": [
        "### **Predicting the top n movies for a given userId with SVD based recommender system**"
      ]
    },
    {
      "cell_type": "code",
      "execution_count": null,
      "metadata": {
        "id": "1LGeE2EB_n90",
        "colab": {
          "base_uri": "https://localhost:8080/"
        },
        "outputId": "7a312ff2-c880-46dd-e9bb-65548e970b08"
      },
      "outputs": [
        {
          "name": "stdout",
          "output_type": "stream",
          "text": [
            "Enter a userId: 89\n",
            "Enter a value for n: 3\n"
          ]
        },
        {
          "output_type": "execute_result",
          "data": {
            "text/plain": [
              "[(80, 5), (116, 5), (162, 5)]"
            ]
          },
          "metadata": {},
          "execution_count": 57
        }
      ],
      "source": [
        "#using the same get_recommendation method defined for user-based model\n",
        "\n",
        "userId_input = int(input(\"Enter a userId: \"))\n",
        "n_input = int(input(\"Enter a value for n: \"))\n",
        "\n",
        "recommendations = get_recommendations(rating, userId_input, n_input, SVD_algorithm_optimized)\n",
        "recommendations"
      ]
    },
    {
      "cell_type": "markdown",
      "metadata": {
        "id": "xgKmqss1vqGz"
      },
      "source": [
        "### **Predicted vs Actual Ratings** "
      ]
    },
    {
      "cell_type": "code",
      "execution_count": null,
      "metadata": {
        "id": "hQIPHA7-vg7W"
      },
      "outputs": [],
      "source": [
        "def predicted_vs_actual(data, user_Id, selected_algorithm):\n",
        "    \n",
        "    recommended_movies = []\n",
        "    user_item_interactions_matrix = data.pivot(index='userId', columns='movieId', values='rating')\n",
        "    \n",
        "    # Movies the user has already interacted with \n",
        "    userId_interactions = user_item_interactions_matrix.loc[user_Id]\n",
        "    interacted_movies = userId_interactions[userId_interactions.notnull()].index.tolist()\n",
        "    \n",
        "    for movie_Id in interacted_movies:\n",
        "        actual_ratings = user_item_interactions_matrix.loc[user_Id, movie_Id]\n",
        "        est_ratings = selected_algorithm.predict(user_Id, movie_Id).est \n",
        "        recommended_movies.append((movie_Id, actual_ratings, est_ratings))\n",
        "\n",
        "    # Sorting - descending order\n",
        "    def key_method(x):\n",
        "      return x[1]\n",
        "    recommended_movies.sort(key=key_method, reverse=True)\n",
        "    return pd.DataFrame(recommended_movies, columns=['movieId', 'actual_rating', 'predicted_rating']) "
      ]
    },
    {
      "cell_type": "markdown",
      "metadata": {
        "id": "5T0q833lwIDK"
      },
      "source": [
        "**Input userId to compare predicted and actual ratings for a given user**"
      ]
    },
    {
      "cell_type": "code",
      "source": [
        "userId_input = int(input(\"Enter a user Id: \"))"
      ],
      "metadata": {
        "colab": {
          "base_uri": "https://localhost:8080/"
        },
        "id": "bhCOTjGYYsbn",
        "outputId": "823cc285-9599-42ea-8ec5-ed7b2b1fb6ae"
      },
      "execution_count": null,
      "outputs": [
        {
          "name": "stdout",
          "output_type": "stream",
          "text": [
            "Enter a user Id: 6\n"
          ]
        }
      ]
    },
    {
      "cell_type": "markdown",
      "source": [
        "**Predicted vs Actual Ratings with User-Based Recommender System**"
      ],
      "metadata": {
        "id": "Jsfxs441ZaXJ"
      }
    },
    {
      "cell_type": "code",
      "execution_count": null,
      "metadata": {
        "id": "IWQvGj-vyWj3",
        "colab": {
          "base_uri": "https://localhost:8080/",
          "height": 369
        },
        "outputId": "151c0a60-8154-49a4-e9c0-7242fb86776d"
      },
      "outputs": [
        {
          "output_type": "display_data",
          "data": {
            "text/plain": [
              "<Figure size 478.125x360 with 1 Axes>"
            ],
            "image/png": "[encoded data removed]"
          },
          "metadata": {
            "needs_background": "light"
          }
        }
      ],
      "source": [
        "predicted_ratings_for_interacted_movies = predicted_vs_actual(rating, userId_input, user_algorithm_optimized)\n",
        "unpivoted_data = predicted_ratings_for_interacted_movies.melt(id_vars='movieId', value_vars=['actual_rating', 'predicted_rating'])\n",
        "sns.displot(data=unpivoted_data, x='value', hue='variable', kde=True);"
      ]
    },
    {
      "cell_type": "markdown",
      "source": [
        "**Predicted vs Actual Ratings with Item-Based Recommender System**"
      ],
      "metadata": {
        "id": "Vj3sapo_aTsg"
      }
    },
    {
      "cell_type": "code",
      "source": [
        "predicted_ratings_for_interacted_movies = predicted_vs_actual(rating, userId_input, item_algorithm_optimized)\n",
        "unpivoted_data = predicted_ratings_for_interacted_movies.melt(id_vars='movieId', value_vars=['actual_rating', 'predicted_rating'])\n",
        "sns.displot(data=unpivoted_data, x='value', hue='variable', kde=True);"
      ],
      "metadata": {
        "colab": {
          "base_uri": "https://localhost:8080/",
          "height": 369
        },
        "id": "iS7GPv89auSA",
        "outputId": "0754aecc-8ab3-4f49-ece2-76d279768be1"
      },
      "execution_count": null,
      "outputs": [
        {
          "output_type": "display_data",
          "data": {
            "text/plain": [
              "<Figure size 478.125x360 with 1 Axes>"
            ],
            "image/png": "[encoded data removed]"
          },
          "metadata": {
            "needs_background": "light"
          }
        }
      ]
    },
    {
      "cell_type": "markdown",
      "source": [
        "**Predicted vs Actual Ratings with Matrix Factorization-Based Recommender System**"
      ],
      "metadata": {
        "id": "JnqUE-PoaYNl"
      }
    },
    {
      "cell_type": "code",
      "execution_count": null,
      "metadata": {
        "id": "6lYjMDhU0xuQ",
        "colab": {
          "base_uri": "https://localhost:8080/",
          "height": 369
        },
        "outputId": "45284b9f-ff4a-4fee-b95a-b3f0d023dab9"
      },
      "outputs": [
        {
          "output_type": "display_data",
          "data": {
            "text/plain": [
              "<Figure size 478.125x360 with 1 Axes>"
            ],
            "image/png": "[encoded data removed]"
          },
          "metadata": {
            "needs_background": "light"
          }
        }
      ],
      "source": [
        "predicted_ratings_for_interacted_movies = predicted_vs_actual(rating, userId_input, SVD_algorithm_optimized)\n",
        "unpivoted_data = predicted_ratings_for_interacted_movies.melt(id_vars='movieId', value_vars=['actual_rating', 'predicted_rating'])\n",
        "sns.displot(data=unpivoted_data, x='value', hue='variable', kde=True);"
      ]
    },
    {
      "cell_type": "markdown",
      "metadata": {
        "id": "b_norGWOwIDP"
      },
      "source": [
        "### **Precision and recall for each of the 6 models**"
      ]
    },
    {
      "cell_type": "code",
      "execution_count": null,
      "metadata": {
        "id": "gihoUY5uwIDQ",
        "scrolled": false
      },
      "outputs": [],
      "source": [
        "def precision_and_recall_k(predicted_ratings, k, threshold):\n",
        "    \n",
        "    # Map predicted ratings to users\n",
        "    user_est_vs_true_ratings = defaultdict(list)\n",
        "    for user_Id, _, true_ratings, est_ratings, _ in predicted_ratings:\n",
        "        user_est_vs_true_ratings[user_Id].append((est_ratings, true_ratings))\n",
        "    precisions = dict()\n",
        "    recalls = dict()\n",
        "\n",
        "    for user_Id, user_ratings in user_est_vs_true_ratings.items():\n",
        "        # Sort predicted ratings in descending order\n",
        "        def key_method(x):\n",
        "          return x[0]\n",
        "        user_ratings.sort(key=key_method, reverse=True)\n",
        "\n",
        "        # Number of relevant movies\n",
        "        n_relevant_movies=0\n",
        "        for (est_ratings, true_ratings) in user_ratings:\n",
        "          if true_ratings >= threshold:\n",
        "            n_relevant_movies+=1\n",
        "\n",
        "        # Number of recommended movies in top k\n",
        "        n_recommended_k=0\n",
        "        for (est_ratings, true_ratings) in user_ratings[0:k]:\n",
        "          if est_ratings >= threshold:\n",
        "            n_recommended_k+=1\n",
        "\n",
        "        # Number of relevant and recommended movies in top k\n",
        "        n_relevant_and_recommended_k=0\n",
        "        for (est_ratings, true_ratings) in user_ratings[0:k]:\n",
        "          if (true_ratings >= threshold) and (est_ratings >= threshold):\n",
        "            n_relevant_and_recommended_k+=1\n",
        "\n",
        "        if n_recommended_k != 0:\n",
        "          # precision at k = proportion of recommended movies that are relevant\n",
        "          precisions[user_Id] = n_relevant_and_recommended_k / n_recommended_k\n",
        "        else:\n",
        "          # precision is undefined when number of recommended in top k is 0\n",
        "          # set it to 0 since it is undefined\n",
        "          precisions[user_Id] = 0\n",
        "\n",
        "        if n_relevant_movies != 0:\n",
        "          recalls[user_Id] = n_relevant_and_recommended_k / n_relevant_movies\n",
        "        else:\n",
        "          recalls[user_Id] = 0\n",
        "\n",
        "    return precisions, recalls\n",
        "\n"
      ]
    },
    {
      "cell_type": "code",
      "source": [
        "k_values = [5, 10]\n",
        "\n",
        "# cross validator\n",
        "k_fold_cv = KFold(n_splits=5)\n",
        "\n",
        "# list of recommender systems\n",
        "recommender_systems = [user_algorithm, user_algorithm_optimized, \n",
        "                       item_algorithm, item_algorithm_optimized, \n",
        "                       SVD_algorithm, SVD_algorithm_optimized]\n",
        "                       \n",
        "recommender_system_names = [\"User-based\",\"User-based (optimized)\",\n",
        "                            \"Item-based\",\"Item-based (optimized)\",\n",
        "                            \"SVD-based\",\"SVD-based (optimized)\"]"
      ],
      "metadata": {
        "id": "MeqVvrvuH4Yg"
      },
      "execution_count": null,
      "outputs": []
    },
    {
      "cell_type": "code",
      "source": [
        "threshold_input = float(input(\"Enter a threshold: \"))"
      ],
      "metadata": {
        "id": "BZeOyDJrNqIV"
      },
      "execution_count": null,
      "outputs": []
    },
    {
      "cell_type": "code",
      "source": [
        "del sum"
      ],
      "metadata": {
        "id": "AZdtZwI_FUJI"
      },
      "execution_count": null,
      "outputs": []
    },
    {
      "cell_type": "code",
      "execution_count": null,
      "metadata": {
        "id": "57qD5TFRnm1W",
        "colab": {
          "base_uri": "https://localhost:8080/"
        },
        "outputId": "d62e70ce-6da5-42dd-96b5-435163850900"
      },
      "outputs": [
        {
          "output_type": "stream",
          "name": "stdout",
          "text": [
            "\n",
            "k = 5, system = User-based\n",
            "-----> Precision:  0.77\n",
            "-----> Recall:  0.414\n",
            "\n",
            "k = 5, system = User-based (optimized)\n",
            "-----> Precision:  0.773\n",
            "-----> Recall:  0.417\n",
            "\n",
            "k = 5, system = Item-based\n",
            "-----> Precision:  0.609\n",
            "-----> Recall:  0.327\n",
            "\n",
            "k = 5, system = Item-based (optimized)\n",
            "-----> Precision:  0.672\n",
            "-----> Recall:  0.351\n",
            "\n",
            "k = 5, system = SVD-based\n",
            "-----> Precision:  0.755\n",
            "-----> Recall:  0.387\n",
            "\n",
            "k = 5, system = SVD-based (optimized)\n",
            "-----> Precision:  0.75\n",
            "-----> Recall:  0.388\n",
            "\n",
            "k = 10, system = User-based\n",
            "-----> Precision:  0.75\n",
            "-----> Recall:  0.551\n",
            "\n",
            "k = 10, system = User-based (optimized)\n",
            "-----> Precision:  0.754\n",
            "-----> Recall:  0.56\n",
            "\n",
            "k = 10, system = Item-based\n",
            "-----> Precision:  0.597\n",
            "-----> Recall:  0.476\n",
            "\n",
            "k = 10, system = Item-based (optimized)\n",
            "-----> Precision:  0.66\n",
            "-----> Recall:  0.503\n",
            "\n",
            "k = 10, system = SVD-based\n",
            "-----> Precision:  0.734\n",
            "-----> Recall:  0.517\n",
            "\n",
            "k = 10, system = SVD-based (optimized)\n",
            "-----> Precision:  0.73\n",
            "-----> Recall:  0.521\n"
          ]
        }
      ],
      "source": [
        "for k in k_values:\n",
        "    for system in range(6):\n",
        "        print('\\nk = {}, system = {}'.format(k, recommender_system_names[system]))\n",
        "        precisions_array = []\n",
        "        recalls_array = []\n",
        "\n",
        "        for training_data, test_data in k_fold_cv.split(data):\n",
        "            # train each model\n",
        "            recommender_systems[system].fit(training_data)\n",
        "            # test each model\n",
        "            predicted_ratings = recommender_systems[system].test(test_data, verbose=False)\n",
        "\n",
        "            precisions, recalls = precision_and_recall_k(predicted_ratings, k=k, threshold=3.5)\n",
        "            \n",
        "            # average precisions across users\n",
        "            sum_precisions=0\n",
        "            for precision in precisions.values():\n",
        "              sum_precisions+=precision\n",
        "            precisions_array.append(sum_precisions / len(precisions))\n",
        "\n",
        "            # average recalls across users\n",
        "            sum_recalls=0\n",
        "            for recall in recalls.values():\n",
        "              sum_recalls+=recall\n",
        "            recalls_array.append(sum_recalls / len(recalls))\n",
        "\n",
        "        # printing overall average precisions and recalls    \n",
        "        print('-----> Precision: ', round(sum(precisions_array) / len(precisions_array), 3))\n",
        "        print('-----> Recall: ', round(sum(recalls_array) / len(recalls_array), 3))"
      ]
    }
  ],
  "metadata": {
    "colab": {
      "collapsed_sections": [],
      "provenance": [],
      "include_colab_link": true
    },
    "kernelspec": {
      "display_name": "Python 3 (ipykernel)",
      "language": "python",
      "name": "python3"
    },
    "language_info": {
      "codemirror_mode": {
        "name": "ipython",
        "version": 3
      },
      "file_extension": ".py",
      "mimetype": "text/x-python",
      "name": "python",
      "nbconvert_exporter": "python",
      "pygments_lexer": "ipython3",
      "version": "3.9.7"
    }
  },
  "nbformat": 4,
  "nbformat_minor": 0
}